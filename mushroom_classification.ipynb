{
 "cells": [
  {
   "cell_type": "code",
   "execution_count": 1,
   "metadata": {
    "collapsed": false
   },
   "outputs": [],
   "source": [
    "import yaml\n",
    "import requests\n",
    "import io\n",
    "\n",
    "import pandas\n",
    "\n",
    "from sklearn.model_selection import train_test_split\n",
    "from sklearn.cluster import KMeans\n",
    "from sklearn.neighbors import KNeighborsClassifier\n",
    "from sklearn.linear_model import LogisticRegression\n",
    "from sklearn.naive_bayes import BernoulliNB\n",
    "from sklearn.tree import DecisionTreeClassifier\n",
    "from sklearn.ensemble import RandomForestClassifier\n",
    "\n",
    "import matplotlib\n",
    "import matplotlib.pyplot as plt\n",
    "\n",
    "import evaluation"
   ]
  },
  {
   "cell_type": "code",
   "execution_count": 2,
   "metadata": {
    "collapsed": true
   },
   "outputs": [],
   "source": [
    "%matplotlib inline\n",
    "matplotlib.style.use('ggplot')"
   ]
  },
  {
   "cell_type": "markdown",
   "metadata": {},
   "source": [
    "# 0. Get Data"
   ]
  },
  {
   "cell_type": "markdown",
   "metadata": {},
   "source": [
    "### Retrieve from Kaggle"
   ]
  },
  {
   "cell_type": "markdown",
   "metadata": {},
   "source": [
    "#### Note:\n",
    "    \n",
    "This requires the user to set up a .yaml authentication file, with a *kaggle* field that contains within it *UserName* and *Password* (at least, that is what I've named my credential variables; I am not sure that they have to be named this way)."
   ]
  },
  {
   "cell_type": "code",
   "execution_count": 3,
   "metadata": {
    "collapsed": true
   },
   "outputs": [],
   "source": [
    "def get_kaggle_csv(url, creds_path='auth.yaml'):\n",
    "    # get creds\n",
    "    with open(creds_path) as f:\n",
    "        creds = yaml.load(f)['kaggle']\n",
    "        \n",
    "    # initiate request to get file\n",
    "    r = requests.get(url)\n",
    "    \n",
    "    # pass creds and complete retrieval\n",
    "    data = requests.post(r.url,\n",
    "                         data=creds).text\n",
    "    \n",
    "    # return DataFrame of csv\n",
    "    return pandas.read_csv(io.StringIO(data))"
   ]
  },
  {
   "cell_type": "code",
   "execution_count": 4,
   "metadata": {
    "collapsed": true
   },
   "outputs": [],
   "source": [
    "url = 'https://www.kaggle.com/uciml/mushroom-classification/downloads/mushrooms.csv'"
   ]
  },
  {
   "cell_type": "code",
   "execution_count": 5,
   "metadata": {
    "collapsed": false
   },
   "outputs": [],
   "source": [
    "data = get_kaggle_csv(url)"
   ]
  },
  {
   "cell_type": "markdown",
   "metadata": {},
   "source": [
    "### Quick Inspection"
   ]
  },
  {
   "cell_type": "code",
   "execution_count": 6,
   "metadata": {
    "collapsed": false
   },
   "outputs": [
    {
     "data": {
      "text/html": [
       "<div>\n",
       "<table border=\"1\" class=\"dataframe\">\n",
       "  <thead>\n",
       "    <tr style=\"text-align: right;\">\n",
       "      <th></th>\n",
       "      <th>class</th>\n",
       "      <th>cap-shape</th>\n",
       "      <th>cap-surface</th>\n",
       "      <th>cap-color</th>\n",
       "      <th>bruises</th>\n",
       "      <th>odor</th>\n",
       "      <th>gill-attachment</th>\n",
       "      <th>gill-spacing</th>\n",
       "      <th>gill-size</th>\n",
       "      <th>gill-color</th>\n",
       "      <th>...</th>\n",
       "      <th>stalk-surface-below-ring</th>\n",
       "      <th>stalk-color-above-ring</th>\n",
       "      <th>stalk-color-below-ring</th>\n",
       "      <th>veil-type</th>\n",
       "      <th>veil-color</th>\n",
       "      <th>ring-number</th>\n",
       "      <th>ring-type</th>\n",
       "      <th>spore-print-color</th>\n",
       "      <th>population</th>\n",
       "      <th>habitat</th>\n",
       "    </tr>\n",
       "  </thead>\n",
       "  <tbody>\n",
       "    <tr>\n",
       "      <th>0</th>\n",
       "      <td>p</td>\n",
       "      <td>x</td>\n",
       "      <td>s</td>\n",
       "      <td>n</td>\n",
       "      <td>t</td>\n",
       "      <td>p</td>\n",
       "      <td>f</td>\n",
       "      <td>c</td>\n",
       "      <td>n</td>\n",
       "      <td>k</td>\n",
       "      <td>...</td>\n",
       "      <td>s</td>\n",
       "      <td>w</td>\n",
       "      <td>w</td>\n",
       "      <td>p</td>\n",
       "      <td>w</td>\n",
       "      <td>o</td>\n",
       "      <td>p</td>\n",
       "      <td>k</td>\n",
       "      <td>s</td>\n",
       "      <td>u</td>\n",
       "    </tr>\n",
       "    <tr>\n",
       "      <th>1</th>\n",
       "      <td>e</td>\n",
       "      <td>x</td>\n",
       "      <td>s</td>\n",
       "      <td>y</td>\n",
       "      <td>t</td>\n",
       "      <td>a</td>\n",
       "      <td>f</td>\n",
       "      <td>c</td>\n",
       "      <td>b</td>\n",
       "      <td>k</td>\n",
       "      <td>...</td>\n",
       "      <td>s</td>\n",
       "      <td>w</td>\n",
       "      <td>w</td>\n",
       "      <td>p</td>\n",
       "      <td>w</td>\n",
       "      <td>o</td>\n",
       "      <td>p</td>\n",
       "      <td>n</td>\n",
       "      <td>n</td>\n",
       "      <td>g</td>\n",
       "    </tr>\n",
       "    <tr>\n",
       "      <th>2</th>\n",
       "      <td>e</td>\n",
       "      <td>b</td>\n",
       "      <td>s</td>\n",
       "      <td>w</td>\n",
       "      <td>t</td>\n",
       "      <td>l</td>\n",
       "      <td>f</td>\n",
       "      <td>c</td>\n",
       "      <td>b</td>\n",
       "      <td>n</td>\n",
       "      <td>...</td>\n",
       "      <td>s</td>\n",
       "      <td>w</td>\n",
       "      <td>w</td>\n",
       "      <td>p</td>\n",
       "      <td>w</td>\n",
       "      <td>o</td>\n",
       "      <td>p</td>\n",
       "      <td>n</td>\n",
       "      <td>n</td>\n",
       "      <td>m</td>\n",
       "    </tr>\n",
       "    <tr>\n",
       "      <th>3</th>\n",
       "      <td>p</td>\n",
       "      <td>x</td>\n",
       "      <td>y</td>\n",
       "      <td>w</td>\n",
       "      <td>t</td>\n",
       "      <td>p</td>\n",
       "      <td>f</td>\n",
       "      <td>c</td>\n",
       "      <td>n</td>\n",
       "      <td>n</td>\n",
       "      <td>...</td>\n",
       "      <td>s</td>\n",
       "      <td>w</td>\n",
       "      <td>w</td>\n",
       "      <td>p</td>\n",
       "      <td>w</td>\n",
       "      <td>o</td>\n",
       "      <td>p</td>\n",
       "      <td>k</td>\n",
       "      <td>s</td>\n",
       "      <td>u</td>\n",
       "    </tr>\n",
       "    <tr>\n",
       "      <th>4</th>\n",
       "      <td>e</td>\n",
       "      <td>x</td>\n",
       "      <td>s</td>\n",
       "      <td>g</td>\n",
       "      <td>f</td>\n",
       "      <td>n</td>\n",
       "      <td>f</td>\n",
       "      <td>w</td>\n",
       "      <td>b</td>\n",
       "      <td>k</td>\n",
       "      <td>...</td>\n",
       "      <td>s</td>\n",
       "      <td>w</td>\n",
       "      <td>w</td>\n",
       "      <td>p</td>\n",
       "      <td>w</td>\n",
       "      <td>o</td>\n",
       "      <td>e</td>\n",
       "      <td>n</td>\n",
       "      <td>a</td>\n",
       "      <td>g</td>\n",
       "    </tr>\n",
       "  </tbody>\n",
       "</table>\n",
       "<p>5 rows × 23 columns</p>\n",
       "</div>"
      ],
      "text/plain": [
       "  class cap-shape cap-surface cap-color bruises odor gill-attachment  \\\n",
       "0     p         x           s         n       t    p               f   \n",
       "1     e         x           s         y       t    a               f   \n",
       "2     e         b           s         w       t    l               f   \n",
       "3     p         x           y         w       t    p               f   \n",
       "4     e         x           s         g       f    n               f   \n",
       "\n",
       "  gill-spacing gill-size gill-color   ...   stalk-surface-below-ring  \\\n",
       "0            c         n          k   ...                          s   \n",
       "1            c         b          k   ...                          s   \n",
       "2            c         b          n   ...                          s   \n",
       "3            c         n          n   ...                          s   \n",
       "4            w         b          k   ...                          s   \n",
       "\n",
       "  stalk-color-above-ring stalk-color-below-ring veil-type veil-color  \\\n",
       "0                      w                      w         p          w   \n",
       "1                      w                      w         p          w   \n",
       "2                      w                      w         p          w   \n",
       "3                      w                      w         p          w   \n",
       "4                      w                      w         p          w   \n",
       "\n",
       "  ring-number ring-type spore-print-color population habitat  \n",
       "0           o         p                 k          s       u  \n",
       "1           o         p                 n          n       g  \n",
       "2           o         p                 n          n       m  \n",
       "3           o         p                 k          s       u  \n",
       "4           o         e                 n          a       g  \n",
       "\n",
       "[5 rows x 23 columns]"
      ]
     },
     "execution_count": 6,
     "metadata": {},
     "output_type": "execute_result"
    }
   ],
   "source": [
    "data.head()"
   ]
  },
  {
   "cell_type": "markdown",
   "metadata": {},
   "source": [
    "#### Check length; check for missing or duplicated data"
   ]
  },
  {
   "cell_type": "code",
   "execution_count": 7,
   "metadata": {
    "collapsed": false
   },
   "outputs": [
    {
     "data": {
      "text/plain": [
       "8124"
      ]
     },
     "execution_count": 7,
     "metadata": {},
     "output_type": "execute_result"
    }
   ],
   "source": [
    "len(data)"
   ]
  },
  {
   "cell_type": "code",
   "execution_count": 8,
   "metadata": {
    "collapsed": false,
    "scrolled": true
   },
   "outputs": [
    {
     "data": {
      "text/plain": [
       "class                       0\n",
       "cap-shape                   0\n",
       "cap-surface                 0\n",
       "cap-color                   0\n",
       "bruises                     0\n",
       "odor                        0\n",
       "gill-attachment             0\n",
       "gill-spacing                0\n",
       "gill-size                   0\n",
       "gill-color                  0\n",
       "stalk-shape                 0\n",
       "stalk-root                  0\n",
       "stalk-surface-above-ring    0\n",
       "stalk-surface-below-ring    0\n",
       "stalk-color-above-ring      0\n",
       "stalk-color-below-ring      0\n",
       "veil-type                   0\n",
       "veil-color                  0\n",
       "ring-number                 0\n",
       "ring-type                   0\n",
       "spore-print-color           0\n",
       "population                  0\n",
       "habitat                     0\n",
       "dtype: int64"
      ]
     },
     "execution_count": 8,
     "metadata": {},
     "output_type": "execute_result"
    }
   ],
   "source": [
    "data.isnull().sum()"
   ]
  },
  {
   "cell_type": "code",
   "execution_count": 9,
   "metadata": {
    "collapsed": false
   },
   "outputs": [
    {
     "data": {
      "text/plain": [
       "0"
      ]
     },
     "execution_count": 9,
     "metadata": {},
     "output_type": "execute_result"
    }
   ],
   "source": [
    "len(data[data.duplicated()])"
   ]
  },
  {
   "cell_type": "markdown",
   "metadata": {},
   "source": [
    "#### Confirm all data is categorical"
   ]
  },
  {
   "cell_type": "code",
   "execution_count": 10,
   "metadata": {
    "collapsed": false,
    "scrolled": true
   },
   "outputs": [
    {
     "name": "stdout",
     "output_type": "stream",
     "text": [
      "['p' 'e']\n",
      "['x' 'b' 's' 'f' 'k' 'c']\n",
      "['s' 'y' 'f' 'g']\n",
      "['n' 'y' 'w' 'g' 'e' 'p' 'b' 'u' 'c' 'r']\n",
      "['t' 'f']\n",
      "['p' 'a' 'l' 'n' 'f' 'c' 'y' 's' 'm']\n",
      "['f' 'a']\n",
      "['c' 'w']\n",
      "['n' 'b']\n",
      "['k' 'n' 'g' 'p' 'w' 'h' 'u' 'e' 'b' 'r' 'y' 'o']\n",
      "['e' 't']\n",
      "['e' 'c' 'b' 'r' '?']\n",
      "['s' 'f' 'k' 'y']\n",
      "['s' 'f' 'y' 'k']\n",
      "['w' 'g' 'p' 'n' 'b' 'e' 'o' 'c' 'y']\n",
      "['w' 'p' 'g' 'b' 'n' 'e' 'y' 'o' 'c']\n",
      "['p']\n",
      "['w' 'n' 'o' 'y']\n",
      "['o' 't' 'n']\n",
      "['p' 'e' 'l' 'f' 'n']\n",
      "['k' 'n' 'u' 'h' 'w' 'r' 'o' 'y' 'b']\n",
      "['s' 'n' 'a' 'v' 'y' 'c']\n",
      "['u' 'g' 'm' 'd' 'p' 'w' 'l']\n"
     ]
    }
   ],
   "source": [
    "for col in data.columns:\n",
    "    print(data[col].unique())"
   ]
  },
  {
   "cell_type": "markdown",
   "metadata": {},
   "source": [
    "#### Look at counts of *edible* vs. *poisonous*"
   ]
  },
  {
   "cell_type": "code",
   "execution_count": 11,
   "metadata": {
    "collapsed": false,
    "scrolled": false
   },
   "outputs": [
    {
     "data": {
      "text/plain": [
       "e    4208\n",
       "p    3916\n",
       "Name: class, dtype: int64"
      ]
     },
     "execution_count": 11,
     "metadata": {},
     "output_type": "execute_result"
    }
   ],
   "source": [
    "data['class'].value_counts()"
   ]
  },
  {
   "cell_type": "markdown",
   "metadata": {},
   "source": [
    "# 1. Exploratory Analysis"
   ]
  },
  {
   "cell_type": "markdown",
   "metadata": {},
   "source": [
    "### 1.A. Quick check for which features might provide the most insight "
   ]
  },
  {
   "cell_type": "markdown",
   "metadata": {},
   "source": [
    "#### Functions"
   ]
  },
  {
   "cell_type": "code",
   "execution_count": 12,
   "metadata": {
    "collapsed": false
   },
   "outputs": [],
   "source": [
    "def diff_between_groups(group_1, group_2):\n",
    "    # outer join the two groups into one DataFrame\n",
    "    # fill missing values with 0\n",
    "    grouped = group_1.to_frame().join(group_2, \n",
    "                                      rsuffix='_', \n",
    "                                      how='outer').fillna(0)\n",
    "    \n",
    "    # scale counts to be proportionte to the total in each group\n",
    "    grouped = grouped / grouped.sum()\n",
    "    \n",
    "    # get difference between scaled values in each group\n",
    "    diff = grouped[grouped.columns[0]] - \\\n",
    "                grouped[grouped.columns[1]]\n",
    "    \n",
    "    # return average squared differences\n",
    "    return (diff ** 2).mean()"
   ]
  },
  {
   "cell_type": "code",
   "execution_count": 13,
   "metadata": {
    "collapsed": true
   },
   "outputs": [],
   "source": [
    "def get_groups(df, col):\n",
    "    # return dataframe[col] filtered by each class value\n",
    "    return df[df['class']=='e'][col].value_counts(), \\\n",
    "                df[df['class']=='p'][col].value_counts()"
   ]
  },
  {
   "cell_type": "markdown",
   "metadata": {},
   "source": [
    "#### Get differences, sort"
   ]
  },
  {
   "cell_type": "code",
   "execution_count": 14,
   "metadata": {
    "collapsed": false
   },
   "outputs": [],
   "source": [
    "diff = []\n",
    "for col in data.columns[1:]:\n",
    "    diff.append((col, \n",
    "                 diff_between_groups(*get_groups(data, \n",
    "                                               col))))\n",
    "\n",
    "sorted_diff = \\\n",
    "        sorted(diff, \n",
    "               key = lambda tup: tup[1],\n",
    "               reverse=True)"
   ]
  },
  {
   "cell_type": "markdown",
   "metadata": {},
   "source": [
    "#### Look at top 5 most different"
   ]
  },
  {
   "cell_type": "code",
   "execution_count": 15,
   "metadata": {
    "collapsed": false
   },
   "outputs": [
    {
     "data": {
      "text/plain": [
       "[('gill-size', 0.24948565575061857),\n",
       " ('bruises', 0.24467478772253914),\n",
       " ('stalk-surface-above-ring', 0.128270415429778),\n",
       " ('stalk-surface-below-ring', 0.11163432018615214),\n",
       " ('odor', 0.10884075521038676)]"
      ]
     },
     "execution_count": 15,
     "metadata": {},
     "output_type": "execute_result"
    }
   ],
   "source": [
    "sorted_diff[:5]"
   ]
  },
  {
   "cell_type": "markdown",
   "metadata": {},
   "source": [
    "#### Look further into top 2 most different"
   ]
  },
  {
   "cell_type": "code",
   "execution_count": 16,
   "metadata": {
    "collapsed": true
   },
   "outputs": [],
   "source": [
    "group_1, group_2 = get_groups(data, 'gill-size')"
   ]
  },
  {
   "cell_type": "code",
   "execution_count": 17,
   "metadata": {
    "collapsed": false
   },
   "outputs": [
    {
     "data": {
      "text/plain": [
       "e  b    3920\n",
       "   n     288\n",
       "p  n    2224\n",
       "   b    1692\n",
       "Name: gill-size, dtype: int64"
      ]
     },
     "execution_count": 17,
     "metadata": {},
     "output_type": "execute_result"
    }
   ],
   "source": [
    "pandas.concat([pandas.concat({'e': group_1}),\n",
    "               pandas.concat({'p': group_2})])"
   ]
  },
  {
   "cell_type": "code",
   "execution_count": 18,
   "metadata": {
    "collapsed": true
   },
   "outputs": [],
   "source": [
    "group_1, group_2 = get_groups(data, 'bruises')"
   ]
  },
  {
   "cell_type": "code",
   "execution_count": 19,
   "metadata": {
    "collapsed": false,
    "scrolled": true
   },
   "outputs": [
    {
     "data": {
      "text/plain": [
       "e  t    2752\n",
       "   f    1456\n",
       "p  f    3292\n",
       "   t     624\n",
       "Name: bruises, dtype: int64"
      ]
     },
     "execution_count": 19,
     "metadata": {},
     "output_type": "execute_result"
    }
   ],
   "source": [
    "pandas.concat([pandas.concat({'e': group_1}),\n",
    "               pandas.concat({'p': group_2})])"
   ]
  },
  {
   "cell_type": "markdown",
   "metadata": {},
   "source": [
    "### 1.B. Visualize the relationsips between each of *gill-sizes* and *bruises*, and *class*"
   ]
  },
  {
   "cell_type": "markdown",
   "metadata": {},
   "source": [
    "#### Visualize relationship between *gill-size* and *class*"
   ]
  },
  {
   "cell_type": "code",
   "execution_count": 20,
   "metadata": {
    "collapsed": false
   },
   "outputs": [],
   "source": [
    "group_1, group_2 = get_groups(data, 'gill-size')"
   ]
  },
  {
   "cell_type": "code",
   "execution_count": 21,
   "metadata": {
    "collapsed": false,
    "scrolled": false
   },
   "outputs": [
    {
     "data": {
      "text/plain": [
       "<matplotlib.text.Text at 0x110868d30>"
      ]
     },
     "execution_count": 21,
     "metadata": {},
     "output_type": "execute_result"
    },
    {
     "data": {
      "image/png": "[encoded data removed]",
      "text/plain": [
       "<matplotlib.figure.Figure at 0x110760898>"
      ]
     },
     "metadata": {},
     "output_type": "display_data"
    }
   ],
   "source": [
    "ax = group_1.plot(kind='bar',\n",
    "                  figsize=(11, 8),\n",
    "                  color='g',\n",
    "                  alpha=.65,\n",
    "                  position=0,\n",
    "                  width=.25,\n",
    "                  label='edible')\n",
    "\n",
    "group_2.plot(kind='bar',\n",
    "              figsize=(11, 8),\n",
    "              color='purple',\n",
    "              alpha=.65,\n",
    "              position=1,\n",
    "              width=.25,\n",
    "              label='poisonous',\n",
    "              ax=ax)\n",
    "\n",
    "ax.set_xlim(right=1.5)\n",
    "plt.legend()\n",
    "plt.title('Gill-size value counts, by class')"
   ]
  },
  {
   "cell_type": "markdown",
   "metadata": {},
   "source": [
    "#### Visualize relationship between *bruises* and *class*"
   ]
  },
  {
   "cell_type": "code",
   "execution_count": 22,
   "metadata": {
    "collapsed": false
   },
   "outputs": [],
   "source": [
    "group_1, group_2 = get_groups(data, 'bruises')"
   ]
  },
  {
   "cell_type": "code",
   "execution_count": 23,
   "metadata": {
    "collapsed": false,
    "scrolled": false
   },
   "outputs": [
    {
     "data": {
      "text/plain": [
       "<matplotlib.text.Text at 0x11323ff60>"
      ]
     },
     "execution_count": 23,
     "metadata": {},
     "output_type": "execute_result"
    },
    {
     "data": {
      "image/png": "[encoded data removed]",
      "text/plain": [
       "<matplotlib.figure.Figure at 0x10504c748>"
      ]
     },
     "metadata": {},
     "output_type": "display_data"
    }
   ],
   "source": [
    "ax = group_1.plot(kind='bar',\n",
    "                  figsize=(11, 8),\n",
    "                  color='g',\n",
    "                  alpha=.65,\n",
    "                  position=0,\n",
    "                  width=.25,\n",
    "                  label='edible')\n",
    "\n",
    "group_2.plot(kind='bar',\n",
    "              figsize=(11, 8),\n",
    "              color='purple',\n",
    "              alpha=.65,\n",
    "              position=1,\n",
    "              width=.25,\n",
    "              label='poisonous',\n",
    "              ax=ax)\n",
    "\n",
    "ax.set_xlim(right=1.5)\n",
    "plt.legend()\n",
    "plt.title('Bruises value counts, by class')"
   ]
  },
  {
   "cell_type": "markdown",
   "metadata": {},
   "source": [
    "#### Note:\n",
    "    \n",
    "Since these two features seem to be fairly indicative of whether or not a mushroom is poisonous, let's try to cluster our data set into two groups based on these features. We will then see whether our cluster labels prove informative."
   ]
  },
  {
   "cell_type": "markdown",
   "metadata": {},
   "source": [
    "### 1.C. Clustering"
   ]
  },
  {
   "cell_type": "markdown",
   "metadata": {},
   "source": [
    "#### one-hot encode data"
   ]
  },
  {
   "cell_type": "code",
   "execution_count": 24,
   "metadata": {
    "collapsed": true
   },
   "outputs": [],
   "source": [
    "onehot = pandas.get_dummies(data)"
   ]
  },
  {
   "cell_type": "code",
   "execution_count": 25,
   "metadata": {
    "collapsed": false
   },
   "outputs": [
    {
     "data": {
      "text/plain": [
       "Index(['class_e', 'class_p', 'cap-shape_b', 'cap-shape_c', 'cap-shape_f',\n",
       "       'cap-shape_k', 'cap-shape_s', 'cap-shape_x', 'cap-surface_f',\n",
       "       'cap-surface_g',\n",
       "       ...\n",
       "       'population_s', 'population_v', 'population_y', 'habitat_d',\n",
       "       'habitat_g', 'habitat_l', 'habitat_m', 'habitat_p', 'habitat_u',\n",
       "       'habitat_w'],\n",
       "      dtype='object', length=119)"
      ]
     },
     "execution_count": 25,
     "metadata": {},
     "output_type": "execute_result"
    }
   ],
   "source": [
    "onehot.columns"
   ]
  },
  {
   "cell_type": "code",
   "execution_count": 26,
   "metadata": {
    "collapsed": true
   },
   "outputs": [],
   "source": [
    "top_two = [col for col in onehot.columns if 'gill-sizes' in col or 'bruises' in col]"
   ]
  },
  {
   "cell_type": "markdown",
   "metadata": {},
   "source": [
    "#### k-means: *gill-size* and *bruises*"
   ]
  },
  {
   "cell_type": "code",
   "execution_count": 27,
   "metadata": {
    "collapsed": true
   },
   "outputs": [],
   "source": [
    "kmeans = KMeans(n_clusters=2)"
   ]
  },
  {
   "cell_type": "code",
   "execution_count": 28,
   "metadata": {
    "collapsed": false
   },
   "outputs": [
    {
     "data": {
      "text/plain": [
       "KMeans(algorithm='auto', copy_x=True, init='k-means++', max_iter=300,\n",
       "    n_clusters=2, n_init=10, n_jobs=1, precompute_distances='auto',\n",
       "    random_state=None, tol=0.0001, verbose=0)"
      ]
     },
     "execution_count": 28,
     "metadata": {},
     "output_type": "execute_result"
    }
   ],
   "source": [
    "kmeans.fit(onehot[top_two])"
   ]
  },
  {
   "cell_type": "code",
   "execution_count": 29,
   "metadata": {
    "collapsed": true
   },
   "outputs": [],
   "source": [
    "data['cluster_kmeans_1'] = kmeans.labels_"
   ]
  },
  {
   "cell_type": "code",
   "execution_count": 30,
   "metadata": {
    "collapsed": false
   },
   "outputs": [
    {
     "data": {
      "text/html": [
       "<div>\n",
       "<table border=\"1\" class=\"dataframe\">\n",
       "  <thead>\n",
       "    <tr style=\"text-align: right;\">\n",
       "      <th></th>\n",
       "      <th></th>\n",
       "      <th>counts</th>\n",
       "    </tr>\n",
       "    <tr>\n",
       "      <th>class</th>\n",
       "      <th>cluster_kmeans_1</th>\n",
       "      <th></th>\n",
       "    </tr>\n",
       "  </thead>\n",
       "  <tbody>\n",
       "    <tr>\n",
       "      <th rowspan=\"2\" valign=\"top\">e</th>\n",
       "      <th>0</th>\n",
       "      <td>0.338749</td>\n",
       "    </tr>\n",
       "    <tr>\n",
       "      <th>1</th>\n",
       "      <td>0.179222</td>\n",
       "    </tr>\n",
       "    <tr>\n",
       "      <th rowspan=\"2\" valign=\"top\">p</th>\n",
       "      <th>0</th>\n",
       "      <td>0.076809</td>\n",
       "    </tr>\n",
       "    <tr>\n",
       "      <th>1</th>\n",
       "      <td>0.405219</td>\n",
       "    </tr>\n",
       "  </tbody>\n",
       "</table>\n",
       "</div>"
      ],
      "text/plain": [
       "                          counts\n",
       "class cluster_kmeans_1          \n",
       "e     0                 0.338749\n",
       "      1                 0.179222\n",
       "p     0                 0.076809\n",
       "      1                 0.405219"
      ]
     },
     "execution_count": 30,
     "metadata": {},
     "output_type": "execute_result"
    }
   ],
   "source": [
    "grouped = \\\n",
    "    data.groupby(['class', \n",
    "                  'cluster_kmeans_1']).size().to_frame().rename(columns={0: 'counts'})\n",
    "grouped / grouped.sum()"
   ]
  },
  {
   "cell_type": "markdown",
   "metadata": {},
   "source": [
    "#### Note:\n",
    "    \n",
    "It seems that the clusters assigned to our data points come pretty close (no pun intented) to separating the data points based on their class. Let's feed in more features and see if we can get an even better representation."
   ]
  },
  {
   "cell_type": "markdown",
   "metadata": {},
   "source": [
    "#### k-means: all columns except for class columns"
   ]
  },
  {
   "cell_type": "code",
   "execution_count": 31,
   "metadata": {
    "collapsed": true
   },
   "outputs": [],
   "source": [
    "kmeans = KMeans(n_clusters=2)"
   ]
  },
  {
   "cell_type": "code",
   "execution_count": 32,
   "metadata": {
    "collapsed": true
   },
   "outputs": [],
   "source": [
    "cols = [col for col in onehot.columns if 'class' not in col]"
   ]
  },
  {
   "cell_type": "code",
   "execution_count": 33,
   "metadata": {
    "collapsed": false
   },
   "outputs": [
    {
     "data": {
      "text/plain": [
       "KMeans(algorithm='auto', copy_x=True, init='k-means++', max_iter=300,\n",
       "    n_clusters=2, n_init=10, n_jobs=1, precompute_distances='auto',\n",
       "    random_state=None, tol=0.0001, verbose=0)"
      ]
     },
     "execution_count": 33,
     "metadata": {},
     "output_type": "execute_result"
    }
   ],
   "source": [
    "kmeans.fit(onehot[cols])"
   ]
  },
  {
   "cell_type": "code",
   "execution_count": 34,
   "metadata": {
    "collapsed": true
   },
   "outputs": [],
   "source": [
    "data['cluster_kmeans_2'] = kmeans.labels_"
   ]
  },
  {
   "cell_type": "code",
   "execution_count": 35,
   "metadata": {
    "collapsed": false
   },
   "outputs": [
    {
     "data": {
      "text/html": [
       "<div>\n",
       "<table border=\"1\" class=\"dataframe\">\n",
       "  <thead>\n",
       "    <tr style=\"text-align: right;\">\n",
       "      <th></th>\n",
       "      <th></th>\n",
       "      <th>counts</th>\n",
       "    </tr>\n",
       "    <tr>\n",
       "      <th>class</th>\n",
       "      <th>cluster_kmeans_2</th>\n",
       "      <th></th>\n",
       "    </tr>\n",
       "  </thead>\n",
       "  <tbody>\n",
       "    <tr>\n",
       "      <th rowspan=\"2\" valign=\"top\">e</th>\n",
       "      <th>0</th>\n",
       "      <td>0.510586</td>\n",
       "    </tr>\n",
       "    <tr>\n",
       "      <th>1</th>\n",
       "      <td>0.007386</td>\n",
       "    </tr>\n",
       "    <tr>\n",
       "      <th rowspan=\"2\" valign=\"top\">p</th>\n",
       "      <th>0</th>\n",
       "      <td>0.100443</td>\n",
       "    </tr>\n",
       "    <tr>\n",
       "      <th>1</th>\n",
       "      <td>0.381585</td>\n",
       "    </tr>\n",
       "  </tbody>\n",
       "</table>\n",
       "</div>"
      ],
      "text/plain": [
       "                          counts\n",
       "class cluster_kmeans_2          \n",
       "e     0                 0.510586\n",
       "      1                 0.007386\n",
       "p     0                 0.100443\n",
       "      1                 0.381585"
      ]
     },
     "execution_count": 35,
     "metadata": {},
     "output_type": "execute_result"
    }
   ],
   "source": [
    "grouped = \\\n",
    "    data.groupby(['class', \n",
    "                  'cluster_kmeans_2']).size().to_frame().rename(columns={0: 'counts'})\n",
    "grouped / grouped.sum()"
   ]
  },
  {
   "cell_type": "markdown",
   "metadata": {},
   "source": [
    "#### Note:\n",
    "    \n",
    "These results are even better than before. It seems like Euclidean distance here is serving us well. Let's go ahead and try to predict *class* using k-Nearest Neighbor classification."
   ]
  },
  {
   "cell_type": "markdown",
   "metadata": {},
   "source": [
    "# 2. Predict *class*"
   ]
  },
  {
   "cell_type": "markdown",
   "metadata": {},
   "source": [
    "### 2.A. k-Nearest Neighbors"
   ]
  },
  {
   "cell_type": "code",
   "execution_count": 36,
   "metadata": {
    "collapsed": false,
    "scrolled": false
   },
   "outputs": [
    {
     "data": {
      "text/html": [
       "<div>\n",
       "<table border=\"1\" class=\"dataframe\">\n",
       "  <thead>\n",
       "    <tr style=\"text-align: right;\">\n",
       "      <th></th>\n",
       "      <th></th>\n",
       "      <th>train_accuracy</th>\n",
       "      <th>test_accuracy</th>\n",
       "      <th>test_precision</th>\n",
       "      <th>test_recall</th>\n",
       "      <th>test_f1score</th>\n",
       "    </tr>\n",
       "    <tr>\n",
       "      <th>trial</th>\n",
       "      <th>params</th>\n",
       "      <th></th>\n",
       "      <th></th>\n",
       "      <th></th>\n",
       "      <th></th>\n",
       "      <th></th>\n",
       "    </tr>\n",
       "  </thead>\n",
       "  <tbody>\n",
       "    <tr>\n",
       "      <th rowspan=\"5\" valign=\"top\">1</th>\n",
       "      <th>n_neighbors: 1</th>\n",
       "      <td>1.0</td>\n",
       "      <td>1.0</td>\n",
       "      <td>1.0</td>\n",
       "      <td>1.0</td>\n",
       "      <td>1.0</td>\n",
       "    </tr>\n",
       "    <tr>\n",
       "      <th>n_neighbors: 2</th>\n",
       "      <td>1.0</td>\n",
       "      <td>1.0</td>\n",
       "      <td>1.0</td>\n",
       "      <td>1.0</td>\n",
       "      <td>1.0</td>\n",
       "    </tr>\n",
       "    <tr>\n",
       "      <th>n_neighbors: 3</th>\n",
       "      <td>1.0</td>\n",
       "      <td>1.0</td>\n",
       "      <td>1.0</td>\n",
       "      <td>1.0</td>\n",
       "      <td>1.0</td>\n",
       "    </tr>\n",
       "    <tr>\n",
       "      <th>n_neighbors: 4</th>\n",
       "      <td>1.0</td>\n",
       "      <td>1.0</td>\n",
       "      <td>1.0</td>\n",
       "      <td>1.0</td>\n",
       "      <td>1.0</td>\n",
       "    </tr>\n",
       "    <tr>\n",
       "      <th>n_neighbors: 5</th>\n",
       "      <td>1.0</td>\n",
       "      <td>1.0</td>\n",
       "      <td>1.0</td>\n",
       "      <td>1.0</td>\n",
       "      <td>1.0</td>\n",
       "    </tr>\n",
       "    <tr>\n",
       "      <th rowspan=\"5\" valign=\"top\">2</th>\n",
       "      <th>n_neighbors: 1</th>\n",
       "      <td>1.0</td>\n",
       "      <td>1.0</td>\n",
       "      <td>1.0</td>\n",
       "      <td>1.0</td>\n",
       "      <td>1.0</td>\n",
       "    </tr>\n",
       "    <tr>\n",
       "      <th>n_neighbors: 2</th>\n",
       "      <td>1.0</td>\n",
       "      <td>1.0</td>\n",
       "      <td>1.0</td>\n",
       "      <td>1.0</td>\n",
       "      <td>1.0</td>\n",
       "    </tr>\n",
       "    <tr>\n",
       "      <th>n_neighbors: 3</th>\n",
       "      <td>1.0</td>\n",
       "      <td>1.0</td>\n",
       "      <td>1.0</td>\n",
       "      <td>1.0</td>\n",
       "      <td>1.0</td>\n",
       "    </tr>\n",
       "    <tr>\n",
       "      <th>n_neighbors: 4</th>\n",
       "      <td>1.0</td>\n",
       "      <td>1.0</td>\n",
       "      <td>1.0</td>\n",
       "      <td>1.0</td>\n",
       "      <td>1.0</td>\n",
       "    </tr>\n",
       "    <tr>\n",
       "      <th>n_neighbors: 5</th>\n",
       "      <td>1.0</td>\n",
       "      <td>1.0</td>\n",
       "      <td>1.0</td>\n",
       "      <td>1.0</td>\n",
       "      <td>1.0</td>\n",
       "    </tr>\n",
       "    <tr>\n",
       "      <th rowspan=\"5\" valign=\"top\">3</th>\n",
       "      <th>n_neighbors: 1</th>\n",
       "      <td>1.0</td>\n",
       "      <td>1.0</td>\n",
       "      <td>1.0</td>\n",
       "      <td>1.0</td>\n",
       "      <td>1.0</td>\n",
       "    </tr>\n",
       "    <tr>\n",
       "      <th>n_neighbors: 2</th>\n",
       "      <td>1.0</td>\n",
       "      <td>1.0</td>\n",
       "      <td>1.0</td>\n",
       "      <td>1.0</td>\n",
       "      <td>1.0</td>\n",
       "    </tr>\n",
       "    <tr>\n",
       "      <th>n_neighbors: 3</th>\n",
       "      <td>1.0</td>\n",
       "      <td>1.0</td>\n",
       "      <td>1.0</td>\n",
       "      <td>1.0</td>\n",
       "      <td>1.0</td>\n",
       "    </tr>\n",
       "    <tr>\n",
       "      <th>n_neighbors: 4</th>\n",
       "      <td>1.0</td>\n",
       "      <td>1.0</td>\n",
       "      <td>1.0</td>\n",
       "      <td>1.0</td>\n",
       "      <td>1.0</td>\n",
       "    </tr>\n",
       "    <tr>\n",
       "      <th>n_neighbors: 5</th>\n",
       "      <td>1.0</td>\n",
       "      <td>1.0</td>\n",
       "      <td>1.0</td>\n",
       "      <td>1.0</td>\n",
       "      <td>1.0</td>\n",
       "    </tr>\n",
       "    <tr>\n",
       "      <th rowspan=\"5\" valign=\"top\">4</th>\n",
       "      <th>n_neighbors: 1</th>\n",
       "      <td>1.0</td>\n",
       "      <td>1.0</td>\n",
       "      <td>1.0</td>\n",
       "      <td>1.0</td>\n",
       "      <td>1.0</td>\n",
       "    </tr>\n",
       "    <tr>\n",
       "      <th>n_neighbors: 2</th>\n",
       "      <td>1.0</td>\n",
       "      <td>1.0</td>\n",
       "      <td>1.0</td>\n",
       "      <td>1.0</td>\n",
       "      <td>1.0</td>\n",
       "    </tr>\n",
       "    <tr>\n",
       "      <th>n_neighbors: 3</th>\n",
       "      <td>1.0</td>\n",
       "      <td>1.0</td>\n",
       "      <td>1.0</td>\n",
       "      <td>1.0</td>\n",
       "      <td>1.0</td>\n",
       "    </tr>\n",
       "    <tr>\n",
       "      <th>n_neighbors: 4</th>\n",
       "      <td>1.0</td>\n",
       "      <td>1.0</td>\n",
       "      <td>1.0</td>\n",
       "      <td>1.0</td>\n",
       "      <td>1.0</td>\n",
       "    </tr>\n",
       "    <tr>\n",
       "      <th>n_neighbors: 5</th>\n",
       "      <td>1.0</td>\n",
       "      <td>1.0</td>\n",
       "      <td>1.0</td>\n",
       "      <td>1.0</td>\n",
       "      <td>1.0</td>\n",
       "    </tr>\n",
       "    <tr>\n",
       "      <th rowspan=\"5\" valign=\"top\">5</th>\n",
       "      <th>n_neighbors: 1</th>\n",
       "      <td>1.0</td>\n",
       "      <td>1.0</td>\n",
       "      <td>1.0</td>\n",
       "      <td>1.0</td>\n",
       "      <td>1.0</td>\n",
       "    </tr>\n",
       "    <tr>\n",
       "      <th>n_neighbors: 2</th>\n",
       "      <td>1.0</td>\n",
       "      <td>1.0</td>\n",
       "      <td>1.0</td>\n",
       "      <td>1.0</td>\n",
       "      <td>1.0</td>\n",
       "    </tr>\n",
       "    <tr>\n",
       "      <th>n_neighbors: 3</th>\n",
       "      <td>1.0</td>\n",
       "      <td>1.0</td>\n",
       "      <td>1.0</td>\n",
       "      <td>1.0</td>\n",
       "      <td>1.0</td>\n",
       "    </tr>\n",
       "    <tr>\n",
       "      <th>n_neighbors: 4</th>\n",
       "      <td>1.0</td>\n",
       "      <td>1.0</td>\n",
       "      <td>1.0</td>\n",
       "      <td>1.0</td>\n",
       "      <td>1.0</td>\n",
       "    </tr>\n",
       "    <tr>\n",
       "      <th>n_neighbors: 5</th>\n",
       "      <td>1.0</td>\n",
       "      <td>1.0</td>\n",
       "      <td>1.0</td>\n",
       "      <td>1.0</td>\n",
       "      <td>1.0</td>\n",
       "    </tr>\n",
       "  </tbody>\n",
       "</table>\n",
       "</div>"
      ],
      "text/plain": [
       "                      train_accuracy  test_accuracy  test_precision  \\\n",
       "trial params                                                          \n",
       "1     n_neighbors: 1             1.0            1.0             1.0   \n",
       "      n_neighbors: 2             1.0            1.0             1.0   \n",
       "      n_neighbors: 3             1.0            1.0             1.0   \n",
       "      n_neighbors: 4             1.0            1.0             1.0   \n",
       "      n_neighbors: 5             1.0            1.0             1.0   \n",
       "2     n_neighbors: 1             1.0            1.0             1.0   \n",
       "      n_neighbors: 2             1.0            1.0             1.0   \n",
       "      n_neighbors: 3             1.0            1.0             1.0   \n",
       "      n_neighbors: 4             1.0            1.0             1.0   \n",
       "      n_neighbors: 5             1.0            1.0             1.0   \n",
       "3     n_neighbors: 1             1.0            1.0             1.0   \n",
       "      n_neighbors: 2             1.0            1.0             1.0   \n",
       "      n_neighbors: 3             1.0            1.0             1.0   \n",
       "      n_neighbors: 4             1.0            1.0             1.0   \n",
       "      n_neighbors: 5             1.0            1.0             1.0   \n",
       "4     n_neighbors: 1             1.0            1.0             1.0   \n",
       "      n_neighbors: 2             1.0            1.0             1.0   \n",
       "      n_neighbors: 3             1.0            1.0             1.0   \n",
       "      n_neighbors: 4             1.0            1.0             1.0   \n",
       "      n_neighbors: 5             1.0            1.0             1.0   \n",
       "5     n_neighbors: 1             1.0            1.0             1.0   \n",
       "      n_neighbors: 2             1.0            1.0             1.0   \n",
       "      n_neighbors: 3             1.0            1.0             1.0   \n",
       "      n_neighbors: 4             1.0            1.0             1.0   \n",
       "      n_neighbors: 5             1.0            1.0             1.0   \n",
       "\n",
       "                      test_recall  test_f1score  \n",
       "trial params                                     \n",
       "1     n_neighbors: 1          1.0           1.0  \n",
       "      n_neighbors: 2          1.0           1.0  \n",
       "      n_neighbors: 3          1.0           1.0  \n",
       "      n_neighbors: 4          1.0           1.0  \n",
       "      n_neighbors: 5          1.0           1.0  \n",
       "2     n_neighbors: 1          1.0           1.0  \n",
       "      n_neighbors: 2          1.0           1.0  \n",
       "      n_neighbors: 3          1.0           1.0  \n",
       "      n_neighbors: 4          1.0           1.0  \n",
       "      n_neighbors: 5          1.0           1.0  \n",
       "3     n_neighbors: 1          1.0           1.0  \n",
       "      n_neighbors: 2          1.0           1.0  \n",
       "      n_neighbors: 3          1.0           1.0  \n",
       "      n_neighbors: 4          1.0           1.0  \n",
       "      n_neighbors: 5          1.0           1.0  \n",
       "4     n_neighbors: 1          1.0           1.0  \n",
       "      n_neighbors: 2          1.0           1.0  \n",
       "      n_neighbors: 3          1.0           1.0  \n",
       "      n_neighbors: 4          1.0           1.0  \n",
       "      n_neighbors: 5          1.0           1.0  \n",
       "5     n_neighbors: 1          1.0           1.0  \n",
       "      n_neighbors: 2          1.0           1.0  \n",
       "      n_neighbors: 3          1.0           1.0  \n",
       "      n_neighbors: 4          1.0           1.0  \n",
       "      n_neighbors: 5          1.0           1.0  "
      ]
     },
     "execution_count": 36,
     "metadata": {},
     "output_type": "execute_result"
    }
   ],
   "source": [
    "evaluation.five_fold_validation(KNeighborsClassifier, \n",
    "                                onehot[cols],\n",
    "                                onehot['class_p'],\n",
    "                                'clf',\n",
    "                                [{'n_neighbors': x} for x in range(1, 6)])"
   ]
  },
  {
   "cell_type": "markdown",
   "metadata": {},
   "source": [
    "#### Note:\n",
    "    \n",
    "These results are ridiculously good. The fact that test accuracy was just as high as training accuracy would usually be a good indicator of a model's non-overfitedness (sorry, that was not very eloquent), but the fact that this model is literally perfect is a bit worrying. \n",
    "\n",
    "It could be that this data set is just very clean and robust, and that *class* is well-predicted via k-Nearest Neighbor. Unfortunately I know almost nothing about mushrooms, so any insight that might typically be gleaned through an understanding of the problem space is at this point not within reach. \n",
    "\n",
    "It would be good to do some further investigations. We could reduce complexity by increasing the number of neighbors considered, and we could also reduce the number of folds tested across to allow for more test data. But, this model is already taking some time to test as is, so let's move on to some other model families."
   ]
  },
  {
   "cell_type": "markdown",
   "metadata": {},
   "source": [
    "### 2.B. Logistic Regression"
   ]
  },
  {
   "cell_type": "code",
   "execution_count": 37,
   "metadata": {
    "collapsed": false,
    "scrolled": true
   },
   "outputs": [
    {
     "data": {
      "text/html": [
       "<div>\n",
       "<table border=\"1\" class=\"dataframe\">\n",
       "  <thead>\n",
       "    <tr style=\"text-align: right;\">\n",
       "      <th></th>\n",
       "      <th></th>\n",
       "      <th>train_accuracy</th>\n",
       "      <th>test_accuracy</th>\n",
       "      <th>test_precision</th>\n",
       "      <th>test_recall</th>\n",
       "      <th>test_f1score</th>\n",
       "    </tr>\n",
       "    <tr>\n",
       "      <th>trial</th>\n",
       "      <th>params</th>\n",
       "      <th></th>\n",
       "      <th></th>\n",
       "      <th></th>\n",
       "      <th></th>\n",
       "      <th></th>\n",
       "    </tr>\n",
       "  </thead>\n",
       "  <tbody>\n",
       "    <tr>\n",
       "      <th>1</th>\n",
       "      <th>Default</th>\n",
       "      <td>1.0</td>\n",
       "      <td>1.000000</td>\n",
       "      <td>1.0</td>\n",
       "      <td>1.000000</td>\n",
       "      <td>1.000000</td>\n",
       "    </tr>\n",
       "    <tr>\n",
       "      <th>2</th>\n",
       "      <th>Default</th>\n",
       "      <td>1.0</td>\n",
       "      <td>1.000000</td>\n",
       "      <td>1.0</td>\n",
       "      <td>1.000000</td>\n",
       "      <td>1.000000</td>\n",
       "    </tr>\n",
       "    <tr>\n",
       "      <th>3</th>\n",
       "      <th>Default</th>\n",
       "      <td>1.0</td>\n",
       "      <td>1.000000</td>\n",
       "      <td>1.0</td>\n",
       "      <td>1.000000</td>\n",
       "      <td>1.000000</td>\n",
       "    </tr>\n",
       "    <tr>\n",
       "      <th>4</th>\n",
       "      <th>Default</th>\n",
       "      <td>1.0</td>\n",
       "      <td>1.000000</td>\n",
       "      <td>1.0</td>\n",
       "      <td>1.000000</td>\n",
       "      <td>1.000000</td>\n",
       "    </tr>\n",
       "    <tr>\n",
       "      <th>5</th>\n",
       "      <th>Default</th>\n",
       "      <td>1.0</td>\n",
       "      <td>0.998153</td>\n",
       "      <td>1.0</td>\n",
       "      <td>0.996169</td>\n",
       "      <td>0.998081</td>\n",
       "    </tr>\n",
       "  </tbody>\n",
       "</table>\n",
       "</div>"
      ],
      "text/plain": [
       "               train_accuracy  test_accuracy  test_precision  test_recall  \\\n",
       "trial params                                                                \n",
       "1     Default             1.0       1.000000             1.0     1.000000   \n",
       "2     Default             1.0       1.000000             1.0     1.000000   \n",
       "3     Default             1.0       1.000000             1.0     1.000000   \n",
       "4     Default             1.0       1.000000             1.0     1.000000   \n",
       "5     Default             1.0       0.998153             1.0     0.996169   \n",
       "\n",
       "               test_f1score  \n",
       "trial params                 \n",
       "1     Default      1.000000  \n",
       "2     Default      1.000000  \n",
       "3     Default      1.000000  \n",
       "4     Default      1.000000  \n",
       "5     Default      0.998081  "
      ]
     },
     "execution_count": 37,
     "metadata": {},
     "output_type": "execute_result"
    }
   ],
   "source": [
    "evaluation.five_fold_validation(LogisticRegression, \n",
    "                                onehot[cols],\n",
    "                                onehot['class_p'],\n",
    "                                'clf')"
   ]
  },
  {
   "cell_type": "markdown",
   "metadata": {},
   "source": [
    "#### Note:\n",
    "    \n",
    "Using a linear model has also given perfect or near-perfect results. Let's try to reduce the number of features used and see if we can still make good predicitions. "
   ]
  },
  {
   "cell_type": "code",
   "execution_count": 38,
   "metadata": {
    "collapsed": true
   },
   "outputs": [],
   "source": [
    "new_cols = [col for col in onehot.columns if 'gill-size' in col or 'bruises' in col]"
   ]
  },
  {
   "cell_type": "code",
   "execution_count": 39,
   "metadata": {
    "collapsed": false,
    "scrolled": true
   },
   "outputs": [
    {
     "data": {
      "text/html": [
       "<div>\n",
       "<table border=\"1\" class=\"dataframe\">\n",
       "  <thead>\n",
       "    <tr style=\"text-align: right;\">\n",
       "      <th></th>\n",
       "      <th></th>\n",
       "      <th>train_accuracy</th>\n",
       "      <th>test_accuracy</th>\n",
       "      <th>test_precision</th>\n",
       "      <th>test_recall</th>\n",
       "      <th>test_f1score</th>\n",
       "    </tr>\n",
       "    <tr>\n",
       "      <th>trial</th>\n",
       "      <th>params</th>\n",
       "      <th></th>\n",
       "      <th></th>\n",
       "      <th></th>\n",
       "      <th></th>\n",
       "      <th></th>\n",
       "    </tr>\n",
       "  </thead>\n",
       "  <tbody>\n",
       "    <tr>\n",
       "      <th>1</th>\n",
       "      <th>Default</th>\n",
       "      <td>0.761619</td>\n",
       "      <td>0.776753</td>\n",
       "      <td>0.707799</td>\n",
       "      <td>0.914541</td>\n",
       "      <td>0.797997</td>\n",
       "    </tr>\n",
       "    <tr>\n",
       "      <th>2</th>\n",
       "      <th>Default</th>\n",
       "      <td>0.766118</td>\n",
       "      <td>0.758769</td>\n",
       "      <td>0.688162</td>\n",
       "      <td>0.913155</td>\n",
       "      <td>0.784852</td>\n",
       "    </tr>\n",
       "    <tr>\n",
       "      <th>3</th>\n",
       "      <th>Default</th>\n",
       "      <td>0.767195</td>\n",
       "      <td>0.754462</td>\n",
       "      <td>0.688235</td>\n",
       "      <td>0.896552</td>\n",
       "      <td>0.778702</td>\n",
       "    </tr>\n",
       "    <tr>\n",
       "      <th>4</th>\n",
       "      <th>Default</th>\n",
       "      <td>0.756462</td>\n",
       "      <td>0.755542</td>\n",
       "      <td>0.889113</td>\n",
       "      <td>0.563218</td>\n",
       "      <td>0.689601</td>\n",
       "    </tr>\n",
       "    <tr>\n",
       "      <th>5</th>\n",
       "      <th>Default</th>\n",
       "      <td>0.760154</td>\n",
       "      <td>0.740764</td>\n",
       "      <td>0.863454</td>\n",
       "      <td>0.549170</td>\n",
       "      <td>0.671351</td>\n",
       "    </tr>\n",
       "  </tbody>\n",
       "</table>\n",
       "</div>"
      ],
      "text/plain": [
       "               train_accuracy  test_accuracy  test_precision  test_recall  \\\n",
       "trial params                                                                \n",
       "1     Default        0.761619       0.776753        0.707799     0.914541   \n",
       "2     Default        0.766118       0.758769        0.688162     0.913155   \n",
       "3     Default        0.767195       0.754462        0.688235     0.896552   \n",
       "4     Default        0.756462       0.755542        0.889113     0.563218   \n",
       "5     Default        0.760154       0.740764        0.863454     0.549170   \n",
       "\n",
       "               test_f1score  \n",
       "trial params                 \n",
       "1     Default      0.797997  \n",
       "2     Default      0.784852  \n",
       "3     Default      0.778702  \n",
       "4     Default      0.689601  \n",
       "5     Default      0.671351  "
      ]
     },
     "execution_count": 39,
     "metadata": {},
     "output_type": "execute_result"
    }
   ],
   "source": [
    "evaluation.five_fold_validation(LogisticRegression, \n",
    "                                onehot[new_cols],\n",
    "                                onehot['class_p'],\n",
    "                                'clf')"
   ]
  },
  {
   "cell_type": "markdown",
   "metadata": {},
   "source": [
    "#### Note:\n",
    "    \n",
    "Using only *gill-size* and *bruises* to predict class has proven somewhat effective, but we have seen a severe reduction in performance. Interestingly, we can see, given the differences between precision and recall and their disparity across these trials, that there appears to be a distinct portion of the data for which these features are not helpful for classification (which you can see if you look back at our grouping check above).\n",
    "\n",
    "Let's try also including our previously-calculated clusters as features."
   ]
  },
  {
   "cell_type": "code",
   "execution_count": 40,
   "metadata": {
    "collapsed": true
   },
   "outputs": [],
   "source": [
    "onehot['cluster_kmeans_2'] = data['cluster_kmeans_2']"
   ]
  },
  {
   "cell_type": "code",
   "execution_count": 41,
   "metadata": {
    "collapsed": false
   },
   "outputs": [],
   "source": [
    "new_cols.append('cluster_kmeans_2')"
   ]
  },
  {
   "cell_type": "code",
   "execution_count": 42,
   "metadata": {
    "collapsed": false
   },
   "outputs": [
    {
     "data": {
      "text/html": [
       "<div>\n",
       "<table border=\"1\" class=\"dataframe\">\n",
       "  <thead>\n",
       "    <tr style=\"text-align: right;\">\n",
       "      <th></th>\n",
       "      <th></th>\n",
       "      <th>train_accuracy</th>\n",
       "      <th>test_accuracy</th>\n",
       "      <th>test_precision</th>\n",
       "      <th>test_recall</th>\n",
       "      <th>test_f1score</th>\n",
       "    </tr>\n",
       "    <tr>\n",
       "      <th>trial</th>\n",
       "      <th>params</th>\n",
       "      <th></th>\n",
       "      <th></th>\n",
       "      <th></th>\n",
       "      <th></th>\n",
       "      <th></th>\n",
       "    </tr>\n",
       "  </thead>\n",
       "  <tbody>\n",
       "    <tr>\n",
       "      <th>1</th>\n",
       "      <th>Default</th>\n",
       "      <td>0.912435</td>\n",
       "      <td>0.914514</td>\n",
       "      <td>0.964029</td>\n",
       "      <td>0.854592</td>\n",
       "      <td>0.906018</td>\n",
       "    </tr>\n",
       "    <tr>\n",
       "      <th>2</th>\n",
       "      <th>Default</th>\n",
       "      <td>0.910294</td>\n",
       "      <td>0.923077</td>\n",
       "      <td>0.966006</td>\n",
       "      <td>0.871009</td>\n",
       "      <td>0.916051</td>\n",
       "    </tr>\n",
       "    <tr>\n",
       "      <th>3</th>\n",
       "      <th>Default</th>\n",
       "      <td>0.913987</td>\n",
       "      <td>0.908308</td>\n",
       "      <td>0.952857</td>\n",
       "      <td>0.851852</td>\n",
       "      <td>0.899528</td>\n",
       "    </tr>\n",
       "    <tr>\n",
       "      <th>4</th>\n",
       "      <th>Default</th>\n",
       "      <td>0.913692</td>\n",
       "      <td>0.909483</td>\n",
       "      <td>0.945378</td>\n",
       "      <td>0.862069</td>\n",
       "      <td>0.901804</td>\n",
       "    </tr>\n",
       "    <tr>\n",
       "      <th>5</th>\n",
       "      <th>Default</th>\n",
       "      <td>0.913846</td>\n",
       "      <td>0.908867</td>\n",
       "      <td>0.950355</td>\n",
       "      <td>0.855683</td>\n",
       "      <td>0.900538</td>\n",
       "    </tr>\n",
       "  </tbody>\n",
       "</table>\n",
       "</div>"
      ],
      "text/plain": [
       "               train_accuracy  test_accuracy  test_precision  test_recall  \\\n",
       "trial params                                                                \n",
       "1     Default        0.912435       0.914514        0.964029     0.854592   \n",
       "2     Default        0.910294       0.923077        0.966006     0.871009   \n",
       "3     Default        0.913987       0.908308        0.952857     0.851852   \n",
       "4     Default        0.913692       0.909483        0.945378     0.862069   \n",
       "5     Default        0.913846       0.908867        0.950355     0.855683   \n",
       "\n",
       "               test_f1score  \n",
       "trial params                 \n",
       "1     Default      0.906018  \n",
       "2     Default      0.916051  \n",
       "3     Default      0.899528  \n",
       "4     Default      0.901804  \n",
       "5     Default      0.900538  "
      ]
     },
     "execution_count": 42,
     "metadata": {},
     "output_type": "execute_result"
    }
   ],
   "source": [
    "evaluation.five_fold_validation(LogisticRegression, \n",
    "                                onehot[new_cols],\n",
    "                                onehot['class_p'],\n",
    "                                'clf')"
   ]
  },
  {
   "cell_type": "markdown",
   "metadata": {},
   "source": [
    "#### Note:\n",
    "    \n",
    "Using only these three features (one of which is nevertheless quite derived) has allowed us to consistently classify these mushrooms as poisonous or not with an accuracy of greater than 90%.\n",
    "\n",
    "Interestingly, there is a tangible difference here between the model's precision and recall scores. We can see here that the model is careful when it comes to making falsely positive classifications. But that comes at the expense of its carefulness with respect to making falsely negative classifications. Seeing as how, based on how I've set this up, *poisonous* is our positive class, we would want to be careful using this model for the purpose of deciding whether or not to eat a mushroom. \n",
    "\n",
    "Just for fun, let's try to classify based on only a datapoint's cluster."
   ]
  },
  {
   "cell_type": "code",
   "execution_count": 43,
   "metadata": {
    "collapsed": false
   },
   "outputs": [
    {
     "data": {
      "text/html": [
       "<div>\n",
       "<table border=\"1\" class=\"dataframe\">\n",
       "  <thead>\n",
       "    <tr style=\"text-align: right;\">\n",
       "      <th></th>\n",
       "      <th></th>\n",
       "      <th>train_accuracy</th>\n",
       "      <th>test_accuracy</th>\n",
       "      <th>test_precision</th>\n",
       "      <th>test_recall</th>\n",
       "      <th>test_f1score</th>\n",
       "    </tr>\n",
       "    <tr>\n",
       "      <th>trial</th>\n",
       "      <th>params</th>\n",
       "      <th></th>\n",
       "      <th></th>\n",
       "      <th></th>\n",
       "      <th></th>\n",
       "      <th></th>\n",
       "    </tr>\n",
       "  </thead>\n",
       "  <tbody>\n",
       "    <tr>\n",
       "      <th>1</th>\n",
       "      <th>Default</th>\n",
       "      <td>0.892890</td>\n",
       "      <td>0.889299</td>\n",
       "      <td>0.985531</td>\n",
       "      <td>0.781888</td>\n",
       "      <td>0.871977</td>\n",
       "    </tr>\n",
       "    <tr>\n",
       "      <th>2</th>\n",
       "      <th>Default</th>\n",
       "      <td>0.890445</td>\n",
       "      <td>0.899077</td>\n",
       "      <td>0.984351</td>\n",
       "      <td>0.803321</td>\n",
       "      <td>0.884669</td>\n",
       "    </tr>\n",
       "    <tr>\n",
       "      <th>3</th>\n",
       "      <th>Default</th>\n",
       "      <td>0.893060</td>\n",
       "      <td>0.888615</td>\n",
       "      <td>0.983923</td>\n",
       "      <td>0.781609</td>\n",
       "      <td>0.871174</td>\n",
       "    </tr>\n",
       "    <tr>\n",
       "      <th>4</th>\n",
       "      <th>Default</th>\n",
       "      <td>0.893231</td>\n",
       "      <td>0.887931</td>\n",
       "      <td>0.967341</td>\n",
       "      <td>0.794381</td>\n",
       "      <td>0.872370</td>\n",
       "    </tr>\n",
       "    <tr>\n",
       "      <th>5</th>\n",
       "      <th>Default</th>\n",
       "      <td>0.891231</td>\n",
       "      <td>0.895936</td>\n",
       "      <td>0.984227</td>\n",
       "      <td>0.796935</td>\n",
       "      <td>0.880734</td>\n",
       "    </tr>\n",
       "  </tbody>\n",
       "</table>\n",
       "</div>"
      ],
      "text/plain": [
       "               train_accuracy  test_accuracy  test_precision  test_recall  \\\n",
       "trial params                                                                \n",
       "1     Default        0.892890       0.889299        0.985531     0.781888   \n",
       "2     Default        0.890445       0.899077        0.984351     0.803321   \n",
       "3     Default        0.893060       0.888615        0.983923     0.781609   \n",
       "4     Default        0.893231       0.887931        0.967341     0.794381   \n",
       "5     Default        0.891231       0.895936        0.984227     0.796935   \n",
       "\n",
       "               test_f1score  \n",
       "trial params                 \n",
       "1     Default      0.871977  \n",
       "2     Default      0.884669  \n",
       "3     Default      0.871174  \n",
       "4     Default      0.872370  \n",
       "5     Default      0.880734  "
      ]
     },
     "execution_count": 43,
     "metadata": {},
     "output_type": "execute_result"
    }
   ],
   "source": [
    "evaluation.five_fold_validation(LogisticRegression, \n",
    "                                onehot['cluster_kmeans_2'].to_frame(),\n",
    "                                onehot['class_p'],\n",
    "                                'clf')"
   ]
  },
  {
   "cell_type": "markdown",
   "metadata": {},
   "source": [
    "#### Note:\n",
    "    \n",
    "Our accuracy has dipped slightly, though it is still close to 90%. But we can see that the disparity between precision and recall has become much more pronouced.\n",
    "\n",
    "Let's go ahead and implement some regularization."
   ]
  },
  {
   "cell_type": "code",
   "execution_count": 44,
   "metadata": {
    "collapsed": false
   },
   "outputs": [
    {
     "data": {
      "text/html": [
       "<div>\n",
       "<table border=\"1\" class=\"dataframe\">\n",
       "  <thead>\n",
       "    <tr style=\"text-align: right;\">\n",
       "      <th></th>\n",
       "      <th></th>\n",
       "      <th>train_accuracy</th>\n",
       "      <th>test_accuracy</th>\n",
       "      <th>test_precision</th>\n",
       "      <th>test_recall</th>\n",
       "      <th>test_f1score</th>\n",
       "    </tr>\n",
       "    <tr>\n",
       "      <th>trial</th>\n",
       "      <th>params</th>\n",
       "      <th></th>\n",
       "      <th></th>\n",
       "      <th></th>\n",
       "      <th></th>\n",
       "      <th></th>\n",
       "    </tr>\n",
       "  </thead>\n",
       "  <tbody>\n",
       "    <tr>\n",
       "      <th rowspan=\"3\" valign=\"top\">1</th>\n",
       "      <th>C: 0.01</th>\n",
       "      <td>0.985072</td>\n",
       "      <td>0.980320</td>\n",
       "      <td>0.989583</td>\n",
       "      <td>0.969388</td>\n",
       "      <td>0.979381</td>\n",
       "    </tr>\n",
       "    <tr>\n",
       "      <th>C: 0.1</th>\n",
       "      <td>0.998307</td>\n",
       "      <td>0.999385</td>\n",
       "      <td>1.000000</td>\n",
       "      <td>0.998724</td>\n",
       "      <td>0.999362</td>\n",
       "    </tr>\n",
       "    <tr>\n",
       "      <th>C: 1</th>\n",
       "      <td>1.000000</td>\n",
       "      <td>1.000000</td>\n",
       "      <td>1.000000</td>\n",
       "      <td>1.000000</td>\n",
       "      <td>1.000000</td>\n",
       "    </tr>\n",
       "    <tr>\n",
       "      <th rowspan=\"3\" valign=\"top\">2</th>\n",
       "      <th>C: 0.01</th>\n",
       "      <td>0.983690</td>\n",
       "      <td>0.987077</td>\n",
       "      <td>0.990979</td>\n",
       "      <td>0.982120</td>\n",
       "      <td>0.986530</td>\n",
       "    </tr>\n",
       "    <tr>\n",
       "      <th>C: 0.1</th>\n",
       "      <td>0.998923</td>\n",
       "      <td>0.999385</td>\n",
       "      <td>1.000000</td>\n",
       "      <td>0.998723</td>\n",
       "      <td>0.999361</td>\n",
       "    </tr>\n",
       "    <tr>\n",
       "      <th>C: 1</th>\n",
       "      <td>1.000000</td>\n",
       "      <td>1.000000</td>\n",
       "      <td>1.000000</td>\n",
       "      <td>1.000000</td>\n",
       "      <td>1.000000</td>\n",
       "    </tr>\n",
       "    <tr>\n",
       "      <th rowspan=\"3\" valign=\"top\">3</th>\n",
       "      <th>C: 0.01</th>\n",
       "      <td>0.984459</td>\n",
       "      <td>0.983385</td>\n",
       "      <td>0.989637</td>\n",
       "      <td>0.975734</td>\n",
       "      <td>0.982637</td>\n",
       "    </tr>\n",
       "    <tr>\n",
       "      <th>C: 0.1</th>\n",
       "      <td>0.999077</td>\n",
       "      <td>0.998154</td>\n",
       "      <td>1.000000</td>\n",
       "      <td>0.996169</td>\n",
       "      <td>0.998081</td>\n",
       "    </tr>\n",
       "    <tr>\n",
       "      <th>C: 1</th>\n",
       "      <td>1.000000</td>\n",
       "      <td>1.000000</td>\n",
       "      <td>1.000000</td>\n",
       "      <td>1.000000</td>\n",
       "      <td>1.000000</td>\n",
       "    </tr>\n",
       "    <tr>\n",
       "      <th rowspan=\"3\" valign=\"top\">4</th>\n",
       "      <th>C: 0.01</th>\n",
       "      <td>0.983846</td>\n",
       "      <td>0.985222</td>\n",
       "      <td>0.988417</td>\n",
       "      <td>0.980843</td>\n",
       "      <td>0.984615</td>\n",
       "    </tr>\n",
       "    <tr>\n",
       "      <th>C: 0.1</th>\n",
       "      <td>0.998923</td>\n",
       "      <td>0.999384</td>\n",
       "      <td>1.000000</td>\n",
       "      <td>0.998723</td>\n",
       "      <td>0.999361</td>\n",
       "    </tr>\n",
       "    <tr>\n",
       "      <th>C: 1</th>\n",
       "      <td>1.000000</td>\n",
       "      <td>1.000000</td>\n",
       "      <td>1.000000</td>\n",
       "      <td>1.000000</td>\n",
       "      <td>1.000000</td>\n",
       "    </tr>\n",
       "    <tr>\n",
       "      <th rowspan=\"3\" valign=\"top\">5</th>\n",
       "      <th>C: 0.01</th>\n",
       "      <td>0.984769</td>\n",
       "      <td>0.983990</td>\n",
       "      <td>0.994771</td>\n",
       "      <td>0.971903</td>\n",
       "      <td>0.983204</td>\n",
       "    </tr>\n",
       "    <tr>\n",
       "      <th>C: 0.1</th>\n",
       "      <td>0.998923</td>\n",
       "      <td>0.995690</td>\n",
       "      <td>1.000000</td>\n",
       "      <td>0.991060</td>\n",
       "      <td>0.995510</td>\n",
       "    </tr>\n",
       "    <tr>\n",
       "      <th>C: 1</th>\n",
       "      <td>1.000000</td>\n",
       "      <td>0.998153</td>\n",
       "      <td>1.000000</td>\n",
       "      <td>0.996169</td>\n",
       "      <td>0.998081</td>\n",
       "    </tr>\n",
       "  </tbody>\n",
       "</table>\n",
       "</div>"
      ],
      "text/plain": [
       "               train_accuracy  test_accuracy  test_precision  test_recall  \\\n",
       "trial params                                                                \n",
       "1     C: 0.01        0.985072       0.980320        0.989583     0.969388   \n",
       "      C: 0.1         0.998307       0.999385        1.000000     0.998724   \n",
       "      C: 1           1.000000       1.000000        1.000000     1.000000   \n",
       "2     C: 0.01        0.983690       0.987077        0.990979     0.982120   \n",
       "      C: 0.1         0.998923       0.999385        1.000000     0.998723   \n",
       "      C: 1           1.000000       1.000000        1.000000     1.000000   \n",
       "3     C: 0.01        0.984459       0.983385        0.989637     0.975734   \n",
       "      C: 0.1         0.999077       0.998154        1.000000     0.996169   \n",
       "      C: 1           1.000000       1.000000        1.000000     1.000000   \n",
       "4     C: 0.01        0.983846       0.985222        0.988417     0.980843   \n",
       "      C: 0.1         0.998923       0.999384        1.000000     0.998723   \n",
       "      C: 1           1.000000       1.000000        1.000000     1.000000   \n",
       "5     C: 0.01        0.984769       0.983990        0.994771     0.971903   \n",
       "      C: 0.1         0.998923       0.995690        1.000000     0.991060   \n",
       "      C: 1           1.000000       0.998153        1.000000     0.996169   \n",
       "\n",
       "               test_f1score  \n",
       "trial params                 \n",
       "1     C: 0.01      0.979381  \n",
       "      C: 0.1       0.999362  \n",
       "      C: 1         1.000000  \n",
       "2     C: 0.01      0.986530  \n",
       "      C: 0.1       0.999361  \n",
       "      C: 1         1.000000  \n",
       "3     C: 0.01      0.982637  \n",
       "      C: 0.1       0.998081  \n",
       "      C: 1         1.000000  \n",
       "4     C: 0.01      0.984615  \n",
       "      C: 0.1       0.999361  \n",
       "      C: 1         1.000000  \n",
       "5     C: 0.01      0.983204  \n",
       "      C: 0.1       0.995510  \n",
       "      C: 1         0.998081  "
      ]
     },
     "execution_count": 44,
     "metadata": {},
     "output_type": "execute_result"
    }
   ],
   "source": [
    "evaluation.five_fold_validation(LogisticRegression, \n",
    "                                onehot[cols],\n",
    "                                onehot['class_p'],\n",
    "                                'clf',\n",
    "                                [{'C': x} for x in (.01, .1, 1)])"
   ]
  },
  {
   "cell_type": "markdown",
   "metadata": {},
   "source": [
    "#### Note:\n",
    "    \n",
    "Even if we force our coefficients to stay near 0, we still see Logistic Regression performing quite well. \n",
    "\n",
    "An L2 regularization of .01 indicates some generalizability to the model. Additionally, we can see a slight tendancy towards precision, at the expsense of recall, but overall this model seems to be performing in a balanced fashion.\n",
    "\n",
    "What if we allow some coefficients to go all the way to 0?"
   ]
  },
  {
   "cell_type": "code",
   "execution_count": 45,
   "metadata": {
    "collapsed": false
   },
   "outputs": [
    {
     "data": {
      "text/html": [
       "<div>\n",
       "<table border=\"1\" class=\"dataframe\">\n",
       "  <thead>\n",
       "    <tr style=\"text-align: right;\">\n",
       "      <th></th>\n",
       "      <th></th>\n",
       "      <th>train_accuracy</th>\n",
       "      <th>test_accuracy</th>\n",
       "      <th>test_precision</th>\n",
       "      <th>test_recall</th>\n",
       "      <th>test_f1score</th>\n",
       "    </tr>\n",
       "    <tr>\n",
       "      <th>trial</th>\n",
       "      <th>params</th>\n",
       "      <th></th>\n",
       "      <th></th>\n",
       "      <th></th>\n",
       "      <th></th>\n",
       "      <th></th>\n",
       "    </tr>\n",
       "  </thead>\n",
       "  <tbody>\n",
       "    <tr>\n",
       "      <th rowspan=\"3\" valign=\"top\">1</th>\n",
       "      <th>C: 0.01, penalty: l1</th>\n",
       "      <td>0.977224</td>\n",
       "      <td>0.977860</td>\n",
       "      <td>0.979487</td>\n",
       "      <td>0.974490</td>\n",
       "      <td>0.976982</td>\n",
       "    </tr>\n",
       "    <tr>\n",
       "      <th>C: 0.1, penalty: l1</th>\n",
       "      <td>0.997999</td>\n",
       "      <td>0.998155</td>\n",
       "      <td>1.000000</td>\n",
       "      <td>0.996173</td>\n",
       "      <td>0.998083</td>\n",
       "    </tr>\n",
       "    <tr>\n",
       "      <th>C: 1, penalty: l1</th>\n",
       "      <td>1.000000</td>\n",
       "      <td>1.000000</td>\n",
       "      <td>1.000000</td>\n",
       "      <td>1.000000</td>\n",
       "      <td>1.000000</td>\n",
       "    </tr>\n",
       "    <tr>\n",
       "      <th rowspan=\"3\" valign=\"top\">2</th>\n",
       "      <th>C: 0.01, penalty: l1</th>\n",
       "      <td>0.975996</td>\n",
       "      <td>0.982769</td>\n",
       "      <td>0.982120</td>\n",
       "      <td>0.982120</td>\n",
       "      <td>0.982120</td>\n",
       "    </tr>\n",
       "    <tr>\n",
       "      <th>C: 0.1, penalty: l1</th>\n",
       "      <td>0.997846</td>\n",
       "      <td>0.998769</td>\n",
       "      <td>1.000000</td>\n",
       "      <td>0.997446</td>\n",
       "      <td>0.998721</td>\n",
       "    </tr>\n",
       "    <tr>\n",
       "      <th>C: 1, penalty: l1</th>\n",
       "      <td>1.000000</td>\n",
       "      <td>1.000000</td>\n",
       "      <td>1.000000</td>\n",
       "      <td>1.000000</td>\n",
       "      <td>1.000000</td>\n",
       "    </tr>\n",
       "    <tr>\n",
       "      <th rowspan=\"3\" valign=\"top\">3</th>\n",
       "      <th>C: 0.01, penalty: l1</th>\n",
       "      <td>0.977997</td>\n",
       "      <td>0.974769</td>\n",
       "      <td>0.970812</td>\n",
       "      <td>0.977011</td>\n",
       "      <td>0.973902</td>\n",
       "    </tr>\n",
       "    <tr>\n",
       "      <th>C: 0.1, penalty: l1</th>\n",
       "      <td>0.998000</td>\n",
       "      <td>0.998154</td>\n",
       "      <td>1.000000</td>\n",
       "      <td>0.996169</td>\n",
       "      <td>0.998081</td>\n",
       "    </tr>\n",
       "    <tr>\n",
       "      <th>C: 1, penalty: l1</th>\n",
       "      <td>1.000000</td>\n",
       "      <td>1.000000</td>\n",
       "      <td>1.000000</td>\n",
       "      <td>1.000000</td>\n",
       "      <td>1.000000</td>\n",
       "    </tr>\n",
       "    <tr>\n",
       "      <th rowspan=\"3\" valign=\"top\">4</th>\n",
       "      <th>C: 0.01, penalty: l1</th>\n",
       "      <td>0.976769</td>\n",
       "      <td>0.979680</td>\n",
       "      <td>0.977099</td>\n",
       "      <td>0.980843</td>\n",
       "      <td>0.978967</td>\n",
       "    </tr>\n",
       "    <tr>\n",
       "      <th>C: 0.1, penalty: l1</th>\n",
       "      <td>0.997692</td>\n",
       "      <td>0.999384</td>\n",
       "      <td>1.000000</td>\n",
       "      <td>0.998723</td>\n",
       "      <td>0.999361</td>\n",
       "    </tr>\n",
       "    <tr>\n",
       "      <th>C: 1, penalty: l1</th>\n",
       "      <td>1.000000</td>\n",
       "      <td>1.000000</td>\n",
       "      <td>1.000000</td>\n",
       "      <td>1.000000</td>\n",
       "      <td>1.000000</td>\n",
       "    </tr>\n",
       "    <tr>\n",
       "      <th rowspan=\"3\" valign=\"top\">5</th>\n",
       "      <th>C: 0.01, penalty: l1</th>\n",
       "      <td>0.978769</td>\n",
       "      <td>0.971675</td>\n",
       "      <td>0.968234</td>\n",
       "      <td>0.973180</td>\n",
       "      <td>0.970701</td>\n",
       "    </tr>\n",
       "    <tr>\n",
       "      <th>C: 0.1, penalty: l1</th>\n",
       "      <td>0.998615</td>\n",
       "      <td>0.995690</td>\n",
       "      <td>1.000000</td>\n",
       "      <td>0.991060</td>\n",
       "      <td>0.995510</td>\n",
       "    </tr>\n",
       "    <tr>\n",
       "      <th>C: 1, penalty: l1</th>\n",
       "      <td>0.999846</td>\n",
       "      <td>0.998153</td>\n",
       "      <td>1.000000</td>\n",
       "      <td>0.996169</td>\n",
       "      <td>0.998081</td>\n",
       "    </tr>\n",
       "  </tbody>\n",
       "</table>\n",
       "</div>"
      ],
      "text/plain": [
       "                            train_accuracy  test_accuracy  test_precision  \\\n",
       "trial params                                                                \n",
       "1     C: 0.01, penalty: l1        0.977224       0.977860        0.979487   \n",
       "      C: 0.1, penalty: l1         0.997999       0.998155        1.000000   \n",
       "      C: 1, penalty: l1           1.000000       1.000000        1.000000   \n",
       "2     C: 0.01, penalty: l1        0.975996       0.982769        0.982120   \n",
       "      C: 0.1, penalty: l1         0.997846       0.998769        1.000000   \n",
       "      C: 1, penalty: l1           1.000000       1.000000        1.000000   \n",
       "3     C: 0.01, penalty: l1        0.977997       0.974769        0.970812   \n",
       "      C: 0.1, penalty: l1         0.998000       0.998154        1.000000   \n",
       "      C: 1, penalty: l1           1.000000       1.000000        1.000000   \n",
       "4     C: 0.01, penalty: l1        0.976769       0.979680        0.977099   \n",
       "      C: 0.1, penalty: l1         0.997692       0.999384        1.000000   \n",
       "      C: 1, penalty: l1           1.000000       1.000000        1.000000   \n",
       "5     C: 0.01, penalty: l1        0.978769       0.971675        0.968234   \n",
       "      C: 0.1, penalty: l1         0.998615       0.995690        1.000000   \n",
       "      C: 1, penalty: l1           0.999846       0.998153        1.000000   \n",
       "\n",
       "                            test_recall  test_f1score  \n",
       "trial params                                           \n",
       "1     C: 0.01, penalty: l1     0.974490      0.976982  \n",
       "      C: 0.1, penalty: l1      0.996173      0.998083  \n",
       "      C: 1, penalty: l1        1.000000      1.000000  \n",
       "2     C: 0.01, penalty: l1     0.982120      0.982120  \n",
       "      C: 0.1, penalty: l1      0.997446      0.998721  \n",
       "      C: 1, penalty: l1        1.000000      1.000000  \n",
       "3     C: 0.01, penalty: l1     0.977011      0.973902  \n",
       "      C: 0.1, penalty: l1      0.996169      0.998081  \n",
       "      C: 1, penalty: l1        1.000000      1.000000  \n",
       "4     C: 0.01, penalty: l1     0.980843      0.978967  \n",
       "      C: 0.1, penalty: l1      0.998723      0.999361  \n",
       "      C: 1, penalty: l1        1.000000      1.000000  \n",
       "5     C: 0.01, penalty: l1     0.973180      0.970701  \n",
       "      C: 0.1, penalty: l1      0.991060      0.995510  \n",
       "      C: 1, penalty: l1        0.996169      0.998081  "
      ]
     },
     "execution_count": 45,
     "metadata": {},
     "output_type": "execute_result"
    }
   ],
   "source": [
    "evaluation.five_fold_validation(LogisticRegression, \n",
    "                                onehot[cols],\n",
    "                                onehot['class_p'],\n",
    "                                'clf',\n",
    "                                [{'C': x, 'penalty': 'l1'} for x in (.01, .1, 1)])"
   ]
  },
  {
   "cell_type": "markdown",
   "metadata": {},
   "source": [
    "#### Note:\n",
    "\n",
    "Applying L1 regularization yields similar results to those produced with L2 regularization, though for the same regularization values L2 seems to yield slightly better results.\n",
    "    \n",
    "The results produced via Logistic Regression look very promising. Passing all of the dataset's original columns (excluding *class* of course) as features has produced a model that is maybe just the smidgeniest of smidgens less accurate than k-Nearest Neighbor, while testing at a higher speed. Applying regularization, which reduces model complexity and increases the model's generalizability, still resulted in a very accurate model. At this point, it might be nice to give this one a 'good job!' and move on to some other experimentations.\n",
    "\n",
    "The binomial nature of our various features means that this data could possibly be well-classified by a Bernoulli Naive Bayes classifier, so let's go ahead and give that a try. "
   ]
  },
  {
   "cell_type": "markdown",
   "metadata": {},
   "source": [
    "### 2.C. Navie Bayes: Bernoulli"
   ]
  },
  {
   "cell_type": "code",
   "execution_count": 46,
   "metadata": {
    "collapsed": false
   },
   "outputs": [
    {
     "data": {
      "text/html": [
       "<div>\n",
       "<table border=\"1\" class=\"dataframe\">\n",
       "  <thead>\n",
       "    <tr style=\"text-align: right;\">\n",
       "      <th></th>\n",
       "      <th></th>\n",
       "      <th>train_accuracy</th>\n",
       "      <th>test_accuracy</th>\n",
       "      <th>test_precision</th>\n",
       "      <th>test_recall</th>\n",
       "      <th>test_f1score</th>\n",
       "    </tr>\n",
       "    <tr>\n",
       "      <th>trial</th>\n",
       "      <th>params</th>\n",
       "      <th></th>\n",
       "      <th></th>\n",
       "      <th></th>\n",
       "      <th></th>\n",
       "      <th></th>\n",
       "    </tr>\n",
       "  </thead>\n",
       "  <tbody>\n",
       "    <tr>\n",
       "      <th rowspan=\"4\" valign=\"top\">1</th>\n",
       "      <th>alpha: 0.01</th>\n",
       "      <td>0.976608</td>\n",
       "      <td>0.976015</td>\n",
       "      <td>0.997330</td>\n",
       "      <td>0.952806</td>\n",
       "      <td>0.974560</td>\n",
       "    </tr>\n",
       "    <tr>\n",
       "      <th>alpha: 0.1</th>\n",
       "      <td>0.958295</td>\n",
       "      <td>0.958180</td>\n",
       "      <td>0.995845</td>\n",
       "      <td>0.917092</td>\n",
       "      <td>0.954847</td>\n",
       "    </tr>\n",
       "    <tr>\n",
       "      <th>alpha: 1</th>\n",
       "      <td>0.941982</td>\n",
       "      <td>0.931734</td>\n",
       "      <td>0.989811</td>\n",
       "      <td>0.867347</td>\n",
       "      <td>0.924541</td>\n",
       "    </tr>\n",
       "    <tr>\n",
       "      <th>alpha: 10</th>\n",
       "      <td>0.925362</td>\n",
       "      <td>0.912669</td>\n",
       "      <td>0.983434</td>\n",
       "      <td>0.832908</td>\n",
       "      <td>0.901934</td>\n",
       "    </tr>\n",
       "    <tr>\n",
       "      <th rowspan=\"4\" valign=\"top\">2</th>\n",
       "      <th>alpha: 0.01</th>\n",
       "      <td>0.977073</td>\n",
       "      <td>0.980923</td>\n",
       "      <td>0.989583</td>\n",
       "      <td>0.970626</td>\n",
       "      <td>0.980013</td>\n",
       "    </tr>\n",
       "    <tr>\n",
       "      <th>alpha: 0.1</th>\n",
       "      <td>0.958455</td>\n",
       "      <td>0.964923</td>\n",
       "      <td>0.989218</td>\n",
       "      <td>0.937420</td>\n",
       "      <td>0.962623</td>\n",
       "    </tr>\n",
       "    <tr>\n",
       "      <th>alpha: 1</th>\n",
       "      <td>0.938760</td>\n",
       "      <td>0.947077</td>\n",
       "      <td>0.986053</td>\n",
       "      <td>0.902937</td>\n",
       "      <td>0.942667</td>\n",
       "    </tr>\n",
       "    <tr>\n",
       "      <th>alpha: 10</th>\n",
       "      <td>0.920449</td>\n",
       "      <td>0.927385</td>\n",
       "      <td>0.975680</td>\n",
       "      <td>0.871009</td>\n",
       "      <td>0.920378</td>\n",
       "    </tr>\n",
       "    <tr>\n",
       "      <th rowspan=\"4\" valign=\"top\">3</th>\n",
       "      <th>alpha: 0.01</th>\n",
       "      <td>0.975842</td>\n",
       "      <td>0.979692</td>\n",
       "      <td>0.992126</td>\n",
       "      <td>0.965517</td>\n",
       "      <td>0.978641</td>\n",
       "    </tr>\n",
       "    <tr>\n",
       "      <th>alpha: 0.1</th>\n",
       "      <td>0.959224</td>\n",
       "      <td>0.958154</td>\n",
       "      <td>0.990398</td>\n",
       "      <td>0.922095</td>\n",
       "      <td>0.955026</td>\n",
       "    </tr>\n",
       "    <tr>\n",
       "      <th>alpha: 1</th>\n",
       "      <td>0.940299</td>\n",
       "      <td>0.937231</td>\n",
       "      <td>0.984353</td>\n",
       "      <td>0.883780</td>\n",
       "      <td>0.931359</td>\n",
       "    </tr>\n",
       "    <tr>\n",
       "      <th>alpha: 10</th>\n",
       "      <td>0.920911</td>\n",
       "      <td>0.921231</td>\n",
       "      <td>0.973951</td>\n",
       "      <td>0.859515</td>\n",
       "      <td>0.913161</td>\n",
       "    </tr>\n",
       "    <tr>\n",
       "      <th rowspan=\"4\" valign=\"top\">4</th>\n",
       "      <th>alpha: 0.01</th>\n",
       "      <td>0.978154</td>\n",
       "      <td>0.971675</td>\n",
       "      <td>0.977951</td>\n",
       "      <td>0.962963</td>\n",
       "      <td>0.970399</td>\n",
       "    </tr>\n",
       "    <tr>\n",
       "      <th>alpha: 0.1</th>\n",
       "      <td>0.959692</td>\n",
       "      <td>0.953202</td>\n",
       "      <td>0.977058</td>\n",
       "      <td>0.924649</td>\n",
       "      <td>0.950131</td>\n",
       "    </tr>\n",
       "    <tr>\n",
       "      <th>alpha: 1</th>\n",
       "      <td>0.941077</td>\n",
       "      <td>0.935345</td>\n",
       "      <td>0.973464</td>\n",
       "      <td>0.890166</td>\n",
       "      <td>0.929953</td>\n",
       "    </tr>\n",
       "    <tr>\n",
       "      <th>alpha: 10</th>\n",
       "      <td>0.921692</td>\n",
       "      <td>0.917488</td>\n",
       "      <td>0.968254</td>\n",
       "      <td>0.856960</td>\n",
       "      <td>0.909214</td>\n",
       "    </tr>\n",
       "    <tr>\n",
       "      <th rowspan=\"4\" valign=\"top\">5</th>\n",
       "      <th>alpha: 0.01</th>\n",
       "      <td>0.978308</td>\n",
       "      <td>0.978448</td>\n",
       "      <td>0.989529</td>\n",
       "      <td>0.965517</td>\n",
       "      <td>0.977376</td>\n",
       "    </tr>\n",
       "    <tr>\n",
       "      <th>alpha: 0.1</th>\n",
       "      <td>0.959692</td>\n",
       "      <td>0.964901</td>\n",
       "      <td>0.989218</td>\n",
       "      <td>0.937420</td>\n",
       "      <td>0.962623</td>\n",
       "    </tr>\n",
       "    <tr>\n",
       "      <th>alpha: 1</th>\n",
       "      <td>0.940462</td>\n",
       "      <td>0.947044</td>\n",
       "      <td>0.987413</td>\n",
       "      <td>0.901660</td>\n",
       "      <td>0.942590</td>\n",
       "    </tr>\n",
       "    <tr>\n",
       "      <th>alpha: 10</th>\n",
       "      <td>0.920000</td>\n",
       "      <td>0.927956</td>\n",
       "      <td>0.977077</td>\n",
       "      <td>0.871009</td>\n",
       "      <td>0.920999</td>\n",
       "    </tr>\n",
       "  </tbody>\n",
       "</table>\n",
       "</div>"
      ],
      "text/plain": [
       "                   train_accuracy  test_accuracy  test_precision  test_recall  \\\n",
       "trial params                                                                    \n",
       "1     alpha: 0.01        0.976608       0.976015        0.997330     0.952806   \n",
       "      alpha: 0.1         0.958295       0.958180        0.995845     0.917092   \n",
       "      alpha: 1           0.941982       0.931734        0.989811     0.867347   \n",
       "      alpha: 10          0.925362       0.912669        0.983434     0.832908   \n",
       "2     alpha: 0.01        0.977073       0.980923        0.989583     0.970626   \n",
       "      alpha: 0.1         0.958455       0.964923        0.989218     0.937420   \n",
       "      alpha: 1           0.938760       0.947077        0.986053     0.902937   \n",
       "      alpha: 10          0.920449       0.927385        0.975680     0.871009   \n",
       "3     alpha: 0.01        0.975842       0.979692        0.992126     0.965517   \n",
       "      alpha: 0.1         0.959224       0.958154        0.990398     0.922095   \n",
       "      alpha: 1           0.940299       0.937231        0.984353     0.883780   \n",
       "      alpha: 10          0.920911       0.921231        0.973951     0.859515   \n",
       "4     alpha: 0.01        0.978154       0.971675        0.977951     0.962963   \n",
       "      alpha: 0.1         0.959692       0.953202        0.977058     0.924649   \n",
       "      alpha: 1           0.941077       0.935345        0.973464     0.890166   \n",
       "      alpha: 10          0.921692       0.917488        0.968254     0.856960   \n",
       "5     alpha: 0.01        0.978308       0.978448        0.989529     0.965517   \n",
       "      alpha: 0.1         0.959692       0.964901        0.989218     0.937420   \n",
       "      alpha: 1           0.940462       0.947044        0.987413     0.901660   \n",
       "      alpha: 10          0.920000       0.927956        0.977077     0.871009   \n",
       "\n",
       "                   test_f1score  \n",
       "trial params                     \n",
       "1     alpha: 0.01      0.974560  \n",
       "      alpha: 0.1       0.954847  \n",
       "      alpha: 1         0.924541  \n",
       "      alpha: 10        0.901934  \n",
       "2     alpha: 0.01      0.980013  \n",
       "      alpha: 0.1       0.962623  \n",
       "      alpha: 1         0.942667  \n",
       "      alpha: 10        0.920378  \n",
       "3     alpha: 0.01      0.978641  \n",
       "      alpha: 0.1       0.955026  \n",
       "      alpha: 1         0.931359  \n",
       "      alpha: 10        0.913161  \n",
       "4     alpha: 0.01      0.970399  \n",
       "      alpha: 0.1       0.950131  \n",
       "      alpha: 1         0.929953  \n",
       "      alpha: 10        0.909214  \n",
       "5     alpha: 0.01      0.977376  \n",
       "      alpha: 0.1       0.962623  \n",
       "      alpha: 1         0.942590  \n",
       "      alpha: 10        0.920999  "
      ]
     },
     "execution_count": 46,
     "metadata": {},
     "output_type": "execute_result"
    }
   ],
   "source": [
    "evaluation.five_fold_validation(BernoulliNB, \n",
    "                                onehot[cols],\n",
    "                                onehot['class_p'],\n",
    "                                'clf',\n",
    "                                [{'alpha': x} for x in (.01, .1, 1, 10)])"
   ]
  },
  {
   "cell_type": "markdown",
   "metadata": {},
   "source": [
    "#### Note:\n",
    "    \n",
    "This model performs well, but not quite as well as either of the previous models we tested. As expected, performance went down as we decreased model complexity. Let's move on to some tree-based models."
   ]
  },
  {
   "cell_type": "markdown",
   "metadata": {},
   "source": [
    "### 2.D. Decision Tree"
   ]
  },
  {
   "cell_type": "code",
   "execution_count": 47,
   "metadata": {
    "collapsed": false
   },
   "outputs": [
    {
     "data": {
      "text/html": [
       "<div>\n",
       "<table border=\"1\" class=\"dataframe\">\n",
       "  <thead>\n",
       "    <tr style=\"text-align: right;\">\n",
       "      <th></th>\n",
       "      <th></th>\n",
       "      <th>train_accuracy</th>\n",
       "      <th>test_accuracy</th>\n",
       "      <th>test_precision</th>\n",
       "      <th>test_recall</th>\n",
       "      <th>test_f1score</th>\n",
       "    </tr>\n",
       "    <tr>\n",
       "      <th>trial</th>\n",
       "      <th>params</th>\n",
       "      <th></th>\n",
       "      <th></th>\n",
       "      <th></th>\n",
       "      <th></th>\n",
       "      <th></th>\n",
       "    </tr>\n",
       "  </thead>\n",
       "  <tbody>\n",
       "    <tr>\n",
       "      <th>1</th>\n",
       "      <th>Default</th>\n",
       "      <td>1.0</td>\n",
       "      <td>1.000000</td>\n",
       "      <td>1.0</td>\n",
       "      <td>1.000000</td>\n",
       "      <td>1.000000</td>\n",
       "    </tr>\n",
       "    <tr>\n",
       "      <th>2</th>\n",
       "      <th>Default</th>\n",
       "      <td>1.0</td>\n",
       "      <td>1.000000</td>\n",
       "      <td>1.0</td>\n",
       "      <td>1.000000</td>\n",
       "      <td>1.000000</td>\n",
       "    </tr>\n",
       "    <tr>\n",
       "      <th>3</th>\n",
       "      <th>Default</th>\n",
       "      <td>1.0</td>\n",
       "      <td>1.000000</td>\n",
       "      <td>1.0</td>\n",
       "      <td>1.000000</td>\n",
       "      <td>1.000000</td>\n",
       "    </tr>\n",
       "    <tr>\n",
       "      <th>4</th>\n",
       "      <th>Default</th>\n",
       "      <td>1.0</td>\n",
       "      <td>1.000000</td>\n",
       "      <td>1.0</td>\n",
       "      <td>1.000000</td>\n",
       "      <td>1.000000</td>\n",
       "    </tr>\n",
       "    <tr>\n",
       "      <th>5</th>\n",
       "      <th>Default</th>\n",
       "      <td>1.0</td>\n",
       "      <td>0.998153</td>\n",
       "      <td>1.0</td>\n",
       "      <td>0.996169</td>\n",
       "      <td>0.998081</td>\n",
       "    </tr>\n",
       "  </tbody>\n",
       "</table>\n",
       "</div>"
      ],
      "text/plain": [
       "               train_accuracy  test_accuracy  test_precision  test_recall  \\\n",
       "trial params                                                                \n",
       "1     Default             1.0       1.000000             1.0     1.000000   \n",
       "2     Default             1.0       1.000000             1.0     1.000000   \n",
       "3     Default             1.0       1.000000             1.0     1.000000   \n",
       "4     Default             1.0       1.000000             1.0     1.000000   \n",
       "5     Default             1.0       0.998153             1.0     0.996169   \n",
       "\n",
       "               test_f1score  \n",
       "trial params                 \n",
       "1     Default      1.000000  \n",
       "2     Default      1.000000  \n",
       "3     Default      1.000000  \n",
       "4     Default      1.000000  \n",
       "5     Default      0.998081  "
      ]
     },
     "execution_count": 47,
     "metadata": {},
     "output_type": "execute_result"
    }
   ],
   "source": [
    "evaluation.five_fold_validation(DecisionTreeClassifier, \n",
    "                                onehot[cols],\n",
    "                                onehot['class_p'],\n",
    "                                'clf')"
   ]
  },
  {
   "cell_type": "markdown",
   "metadata": {},
   "source": [
    "#### Note:\n",
    "    \n",
    "These results are phenomenal, maybe too phenomenal. Let's limit tree depth and see what happens."
   ]
  },
  {
   "cell_type": "code",
   "execution_count": 48,
   "metadata": {
    "collapsed": false
   },
   "outputs": [
    {
     "data": {
      "text/html": [
       "<div>\n",
       "<table border=\"1\" class=\"dataframe\">\n",
       "  <thead>\n",
       "    <tr style=\"text-align: right;\">\n",
       "      <th></th>\n",
       "      <th></th>\n",
       "      <th>train_accuracy</th>\n",
       "      <th>test_accuracy</th>\n",
       "      <th>test_precision</th>\n",
       "      <th>test_recall</th>\n",
       "      <th>test_f1score</th>\n",
       "    </tr>\n",
       "    <tr>\n",
       "      <th>trial</th>\n",
       "      <th>params</th>\n",
       "      <th></th>\n",
       "      <th></th>\n",
       "      <th></th>\n",
       "      <th></th>\n",
       "      <th></th>\n",
       "    </tr>\n",
       "  </thead>\n",
       "  <tbody>\n",
       "    <tr>\n",
       "      <th>1</th>\n",
       "      <th>max_depth: 4</th>\n",
       "      <td>0.987073</td>\n",
       "      <td>0.980320</td>\n",
       "      <td>1.000000</td>\n",
       "      <td>0.959184</td>\n",
       "      <td>0.979167</td>\n",
       "    </tr>\n",
       "    <tr>\n",
       "      <th>2</th>\n",
       "      <th>max_depth: 4</th>\n",
       "      <td>0.993076</td>\n",
       "      <td>0.995692</td>\n",
       "      <td>0.991139</td>\n",
       "      <td>1.000000</td>\n",
       "      <td>0.995550</td>\n",
       "    </tr>\n",
       "    <tr>\n",
       "      <th>3</th>\n",
       "      <th>max_depth: 4</th>\n",
       "      <td>0.994615</td>\n",
       "      <td>0.989538</td>\n",
       "      <td>0.979950</td>\n",
       "      <td>0.998723</td>\n",
       "      <td>0.989247</td>\n",
       "    </tr>\n",
       "    <tr>\n",
       "      <th>4</th>\n",
       "      <th>max_depth: 4</th>\n",
       "      <td>0.993692</td>\n",
       "      <td>0.993227</td>\n",
       "      <td>0.986146</td>\n",
       "      <td>1.000000</td>\n",
       "      <td>0.993025</td>\n",
       "    </tr>\n",
       "    <tr>\n",
       "      <th>5</th>\n",
       "      <th>max_depth: 4</th>\n",
       "      <td>0.994923</td>\n",
       "      <td>0.988300</td>\n",
       "      <td>0.979899</td>\n",
       "      <td>0.996169</td>\n",
       "      <td>0.987967</td>\n",
       "    </tr>\n",
       "  </tbody>\n",
       "</table>\n",
       "</div>"
      ],
      "text/plain": [
       "                    train_accuracy  test_accuracy  test_precision  \\\n",
       "trial params                                                        \n",
       "1     max_depth: 4        0.987073       0.980320        1.000000   \n",
       "2     max_depth: 4        0.993076       0.995692        0.991139   \n",
       "3     max_depth: 4        0.994615       0.989538        0.979950   \n",
       "4     max_depth: 4        0.993692       0.993227        0.986146   \n",
       "5     max_depth: 4        0.994923       0.988300        0.979899   \n",
       "\n",
       "                    test_recall  test_f1score  \n",
       "trial params                                   \n",
       "1     max_depth: 4     0.959184      0.979167  \n",
       "2     max_depth: 4     1.000000      0.995550  \n",
       "3     max_depth: 4     0.998723      0.989247  \n",
       "4     max_depth: 4     1.000000      0.993025  \n",
       "5     max_depth: 4     0.996169      0.987967  "
      ]
     },
     "execution_count": 48,
     "metadata": {},
     "output_type": "execute_result"
    }
   ],
   "source": [
    "evaluation.five_fold_validation(DecisionTreeClassifier, \n",
    "                                onehot[cols],\n",
    "                                onehot['class_p'],\n",
    "                                'clf',\n",
    "                                [{'max_depth': 4}])"
   ]
  },
  {
   "cell_type": "markdown",
   "metadata": {},
   "source": [
    "#### Note:\n",
    "    \n",
    "Accuracy has decreased slightly but is still very, very good. The intermitent disparities between train and test accuracy could indicate a propensity for variance in the predictions / overfitting. Let's train a tree and look at what features it is using to make predictions."
   ]
  },
  {
   "cell_type": "code",
   "execution_count": 49,
   "metadata": {
    "collapsed": false
   },
   "outputs": [],
   "source": [
    "X_train, X_test, y_train, y_test = train_test_split(onehot[cols], onehot['class_p'])"
   ]
  },
  {
   "cell_type": "code",
   "execution_count": 50,
   "metadata": {
    "collapsed": false
   },
   "outputs": [],
   "source": [
    "clf = DecisionTreeClassifier(max_depth=4).fit(X_train, y_train)"
   ]
  },
  {
   "cell_type": "code",
   "execution_count": 51,
   "metadata": {
    "collapsed": false
   },
   "outputs": [
    {
     "data": {
      "text/plain": [
       "0.99261447562776961"
      ]
     },
     "execution_count": 51,
     "metadata": {},
     "output_type": "execute_result"
    }
   ],
   "source": [
    "clf.score(X_test, y_test)"
   ]
  },
  {
   "cell_type": "code",
   "execution_count": 52,
   "metadata": {
    "collapsed": false
   },
   "outputs": [],
   "source": [
    "col_importances = []\n",
    "for i, col in enumerate(cols):\n",
    "    col_importances.append((col, clf.feature_importances_[i]))"
   ]
  },
  {
   "cell_type": "code",
   "execution_count": 53,
   "metadata": {
    "collapsed": false,
    "scrolled": true
   },
   "outputs": [
    {
     "data": {
      "text/plain": [
       "[('odor_n', 0.63537621229013563),\n",
       " ('stalk-root_c', 0.18088877145300622),\n",
       " ('stalk-surface-below-ring_y', 0.099011067162175156),\n",
       " ('spore-print-color_r', 0.034623923396534681),\n",
       " ('odor_a', 0.024676952349263506)]"
      ]
     },
     "execution_count": 53,
     "metadata": {},
     "output_type": "execute_result"
    }
   ],
   "source": [
    "sorted(col_importances, key=lambda tup: tup[1], reverse=True)[:5]"
   ]
  },
  {
   "cell_type": "markdown",
   "metadata": {},
   "source": [
    "#### Note:\n",
    "    \n",
    "The presence, or lack thereof, of the value *n* for feautre *odor* seemed to be quite useful for the Decision Tree. Let's go ahead and train a Random Forest classifier, which, in reducing overfitting, should provide us with more even feature importances."
   ]
  },
  {
   "cell_type": "markdown",
   "metadata": {},
   "source": [
    "### 2.E. Random Forest"
   ]
  },
  {
   "cell_type": "code",
   "execution_count": 54,
   "metadata": {
    "collapsed": false
   },
   "outputs": [],
   "source": [
    "clf = RandomForestClassifier(n_estimators=10, max_depth=4, n_jobs=-1).fit(X_train, y_train)"
   ]
  },
  {
   "cell_type": "code",
   "execution_count": 55,
   "metadata": {
    "collapsed": false
   },
   "outputs": [
    {
     "data": {
      "text/plain": [
       "0.98424421467257506"
      ]
     },
     "execution_count": 55,
     "metadata": {},
     "output_type": "execute_result"
    }
   ],
   "source": [
    "clf.score(X_test, y_test)"
   ]
  },
  {
   "cell_type": "markdown",
   "metadata": {},
   "source": [
    "#### Note:\n",
    "    \n",
    "Our accuracy here is lower than that of the single Decision Tree we trained above. We may be able to increase model accuracy through increasing the number of trees used."
   ]
  },
  {
   "cell_type": "code",
   "execution_count": 56,
   "metadata": {
    "collapsed": false
   },
   "outputs": [],
   "source": [
    "clf = RandomForestClassifier(n_estimators=100, max_depth=4, n_jobs=-1).fit(X_train, y_train)"
   ]
  },
  {
   "cell_type": "code",
   "execution_count": 57,
   "metadata": {
    "collapsed": false
   },
   "outputs": [
    {
     "data": {
      "text/plain": [
       "0.99064500246184151"
      ]
     },
     "execution_count": 57,
     "metadata": {},
     "output_type": "execute_result"
    }
   ],
   "source": [
    "clf.score(X_test, y_test)"
   ]
  },
  {
   "cell_type": "code",
   "execution_count": 58,
   "metadata": {
    "collapsed": false
   },
   "outputs": [],
   "source": [
    "col_importances = []\n",
    "for i, col in enumerate(cols):\n",
    "    col_importances.append((col, clf.feature_importances_[i]))"
   ]
  },
  {
   "cell_type": "code",
   "execution_count": 59,
   "metadata": {
    "collapsed": false,
    "scrolled": true
   },
   "outputs": [
    {
     "data": {
      "text/plain": [
       "[('odor_n', 0.13361282813574549),\n",
       " ('odor_f', 0.085905623830595648),\n",
       " ('gill-size_n', 0.061650278355427107),\n",
       " ('stalk-surface-above-ring_k', 0.061191344563853514),\n",
       " ('stalk-surface-below-ring_k', 0.053571920521429804)]"
      ]
     },
     "execution_count": 59,
     "metadata": {},
     "output_type": "execute_result"
    }
   ],
   "source": [
    "sorted(col_importances, key=lambda tup: tup[1], reverse=True)[:5]"
   ]
  },
  {
   "cell_type": "markdown",
   "metadata": {},
   "source": [
    "#### Note:\n",
    "    \n",
    "Increasing the number of trees used increased our accuracy noticeably. *odor-n* is still the most important feature, though much less domineering in its importance."
   ]
  },
  {
   "cell_type": "markdown",
   "metadata": {},
   "source": [
    "# 3. Analysis"
   ]
  },
  {
   "cell_type": "markdown",
   "metadata": {
    "collapsed": true
   },
   "source": [
    "#### All models tested produced results that in many contexts would be considered quite good.\n",
    "\n",
    "This data responded well to utilizations of Euclidean distance. k-Means provided a succfessful avenue to decomposition.\n",
    "\n",
    "k-Nearest Neighbor produced perfect results across multiple tests, but that may have been due to overfitting. Due to the increasing wait times involved in increasing the number of neighbors considered (which improves generalizability), we moved on to other models.\n",
    "\n",
    "Bernoulli Naive Bayes was less accuracte than the other models.\n",
    "\n",
    "A Decision Tree produced high accuracy but may have been overfitting. A Random Forest was then tested. This proved highly accuracte. But the Random Forest is more of a black-box model, as evidenced by the wait involed in even printing out some feature importances.\n",
    "\n",
    "That leaves Logistic Regression. This model proved highly accurate, very tweakable, and quick to train and test. Precomputing a *cluster* feature using k-Means provided an additional, highly predictive feature. As its ubiquity throughout a variety of different modeling applications might suggest, Logistic Regression is a powerful model."
   ]
  },
  {
   "cell_type": "code",
   "execution_count": null,
   "metadata": {
    "collapsed": true
   },
   "outputs": [],
   "source": []
  }
 ],
 "metadata": {
  "kernelspec": {
   "display_name": "Python 3",
   "language": "python",
   "name": "python3"
  },
  "language_info": {
   "codemirror_mode": {
    "name": "ipython",
    "version": 3
   },
   "file_extension": ".py",
   "mimetype": "text/x-python",
   "name": "python",
   "nbconvert_exporter": "python",
   "pygments_lexer": "ipython3",
   "version": "3.5.1"
  }
 },
 "nbformat": 4,
 "nbformat_minor": 0
}
